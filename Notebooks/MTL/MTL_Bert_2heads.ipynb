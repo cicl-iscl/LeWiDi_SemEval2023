{
  "nbformat": 4,
  "nbformat_minor": 0,
  "metadata": {
    "colab": {
      "provenance": [],
      "mount_file_id": "1HObxyRvxp-E3OPEhnKvxqChRh6pmzEkH",
      "authorship_tag": "ABX9TyNgphy39XIEjp+E9DbpdAnx",
      "include_colab_link": true
    },
    "kernelspec": {
      "name": "python3",
      "display_name": "Python 3"
    },
    "language_info": {
      "name": "python"
    },
    "gpuClass": "standard",
    "widgets": {
      "application/vnd.jupyter.widget-state+json": {
        "de90794b55e44223b0847f71630648ac": {
          "model_module": "@jupyter-widgets/controls",
          "model_name": "HBoxModel",
          "model_module_version": "1.5.0",
          "state": {
            "_dom_classes": [],
            "_model_module": "@jupyter-widgets/controls",
            "_model_module_version": "1.5.0",
            "_model_name": "HBoxModel",
            "_view_count": null,
            "_view_module": "@jupyter-widgets/controls",
            "_view_module_version": "1.5.0",
            "_view_name": "HBoxView",
            "box_style": "",
            "children": [
              "IPY_MODEL_89b099eeb3a64882b4bfe29c38b72764",
              "IPY_MODEL_64a13e93ef764bf2b42b1136b2953e17",
              "IPY_MODEL_2fc0a9c77a34459785b5bf479cc985b3"
            ],
            "layout": "IPY_MODEL_a499f6b3cd7a4da0b74bb897ea05e8de"
          }
        },
        "89b099eeb3a64882b4bfe29c38b72764": {
          "model_module": "@jupyter-widgets/controls",
          "model_name": "HTMLModel",
          "model_module_version": "1.5.0",
          "state": {
            "_dom_classes": [],
            "_model_module": "@jupyter-widgets/controls",
            "_model_module_version": "1.5.0",
            "_model_name": "HTMLModel",
            "_view_count": null,
            "_view_module": "@jupyter-widgets/controls",
            "_view_module_version": "1.5.0",
            "_view_name": "HTMLView",
            "description": "",
            "description_tooltip": null,
            "layout": "IPY_MODEL_7959935405c64d67a71a2394d0c394f1",
            "placeholder": "​",
            "style": "IPY_MODEL_2aa45905aff646219b36a9c6bcad8386",
            "value": "Downloading: 100%"
          }
        },
        "64a13e93ef764bf2b42b1136b2953e17": {
          "model_module": "@jupyter-widgets/controls",
          "model_name": "FloatProgressModel",
          "model_module_version": "1.5.0",
          "state": {
            "_dom_classes": [],
            "_model_module": "@jupyter-widgets/controls",
            "_model_module_version": "1.5.0",
            "_model_name": "FloatProgressModel",
            "_view_count": null,
            "_view_module": "@jupyter-widgets/controls",
            "_view_module_version": "1.5.0",
            "_view_name": "ProgressView",
            "bar_style": "success",
            "description": "",
            "description_tooltip": null,
            "layout": "IPY_MODEL_1b6796028f8c429297221568f868c0b2",
            "max": 24,
            "min": 0,
            "orientation": "horizontal",
            "style": "IPY_MODEL_354eec8aae224efa8713fb5fd02d1dba",
            "value": 24
          }
        },
        "2fc0a9c77a34459785b5bf479cc985b3": {
          "model_module": "@jupyter-widgets/controls",
          "model_name": "HTMLModel",
          "model_module_version": "1.5.0",
          "state": {
            "_dom_classes": [],
            "_model_module": "@jupyter-widgets/controls",
            "_model_module_version": "1.5.0",
            "_model_name": "HTMLModel",
            "_view_count": null,
            "_view_module": "@jupyter-widgets/controls",
            "_view_module_version": "1.5.0",
            "_view_name": "HTMLView",
            "description": "",
            "description_tooltip": null,
            "layout": "IPY_MODEL_bac1ec416aae400eb0ab8bcee3eab19e",
            "placeholder": "​",
            "style": "IPY_MODEL_4e93fcb6ac9d489daa6c19c95c144fb3",
            "value": " 24.0/24.0 [00:00&lt;00:00, 366B/s]"
          }
        },
        "a499f6b3cd7a4da0b74bb897ea05e8de": {
          "model_module": "@jupyter-widgets/base",
          "model_name": "LayoutModel",
          "model_module_version": "1.2.0",
          "state": {
            "_model_module": "@jupyter-widgets/base",
            "_model_module_version": "1.2.0",
            "_model_name": "LayoutModel",
            "_view_count": null,
            "_view_module": "@jupyter-widgets/base",
            "_view_module_version": "1.2.0",
            "_view_name": "LayoutView",
            "align_content": null,
            "align_items": null,
            "align_self": null,
            "border": null,
            "bottom": null,
            "display": null,
            "flex": null,
            "flex_flow": null,
            "grid_area": null,
            "grid_auto_columns": null,
            "grid_auto_flow": null,
            "grid_auto_rows": null,
            "grid_column": null,
            "grid_gap": null,
            "grid_row": null,
            "grid_template_areas": null,
            "grid_template_columns": null,
            "grid_template_rows": null,
            "height": null,
            "justify_content": null,
            "justify_items": null,
            "left": null,
            "margin": null,
            "max_height": null,
            "max_width": null,
            "min_height": null,
            "min_width": null,
            "object_fit": null,
            "object_position": null,
            "order": null,
            "overflow": null,
            "overflow_x": null,
            "overflow_y": null,
            "padding": null,
            "right": null,
            "top": null,
            "visibility": null,
            "width": null
          }
        },
        "7959935405c64d67a71a2394d0c394f1": {
          "model_module": "@jupyter-widgets/base",
          "model_name": "LayoutModel",
          "model_module_version": "1.2.0",
          "state": {
            "_model_module": "@jupyter-widgets/base",
            "_model_module_version": "1.2.0",
            "_model_name": "LayoutModel",
            "_view_count": null,
            "_view_module": "@jupyter-widgets/base",
            "_view_module_version": "1.2.0",
            "_view_name": "LayoutView",
            "align_content": null,
            "align_items": null,
            "align_self": null,
            "border": null,
            "bottom": null,
            "display": null,
            "flex": null,
            "flex_flow": null,
            "grid_area": null,
            "grid_auto_columns": null,
            "grid_auto_flow": null,
            "grid_auto_rows": null,
            "grid_column": null,
            "grid_gap": null,
            "grid_row": null,
            "grid_template_areas": null,
            "grid_template_columns": null,
            "grid_template_rows": null,
            "height": null,
            "justify_content": null,
            "justify_items": null,
            "left": null,
            "margin": null,
            "max_height": null,
            "max_width": null,
            "min_height": null,
            "min_width": null,
            "object_fit": null,
            "object_position": null,
            "order": null,
            "overflow": null,
            "overflow_x": null,
            "overflow_y": null,
            "padding": null,
            "right": null,
            "top": null,
            "visibility": null,
            "width": null
          }
        },
        "2aa45905aff646219b36a9c6bcad8386": {
          "model_module": "@jupyter-widgets/controls",
          "model_name": "DescriptionStyleModel",
          "model_module_version": "1.5.0",
          "state": {
            "_model_module": "@jupyter-widgets/controls",
            "_model_module_version": "1.5.0",
            "_model_name": "DescriptionStyleModel",
            "_view_count": null,
            "_view_module": "@jupyter-widgets/base",
            "_view_module_version": "1.2.0",
            "_view_name": "StyleView",
            "description_width": ""
          }
        },
        "1b6796028f8c429297221568f868c0b2": {
          "model_module": "@jupyter-widgets/base",
          "model_name": "LayoutModel",
          "model_module_version": "1.2.0",
          "state": {
            "_model_module": "@jupyter-widgets/base",
            "_model_module_version": "1.2.0",
            "_model_name": "LayoutModel",
            "_view_count": null,
            "_view_module": "@jupyter-widgets/base",
            "_view_module_version": "1.2.0",
            "_view_name": "LayoutView",
            "align_content": null,
            "align_items": null,
            "align_self": null,
            "border": null,
            "bottom": null,
            "display": null,
            "flex": null,
            "flex_flow": null,
            "grid_area": null,
            "grid_auto_columns": null,
            "grid_auto_flow": null,
            "grid_auto_rows": null,
            "grid_column": null,
            "grid_gap": null,
            "grid_row": null,
            "grid_template_areas": null,
            "grid_template_columns": null,
            "grid_template_rows": null,
            "height": null,
            "justify_content": null,
            "justify_items": null,
            "left": null,
            "margin": null,
            "max_height": null,
            "max_width": null,
            "min_height": null,
            "min_width": null,
            "object_fit": null,
            "object_position": null,
            "order": null,
            "overflow": null,
            "overflow_x": null,
            "overflow_y": null,
            "padding": null,
            "right": null,
            "top": null,
            "visibility": null,
            "width": null
          }
        },
        "354eec8aae224efa8713fb5fd02d1dba": {
          "model_module": "@jupyter-widgets/controls",
          "model_name": "ProgressStyleModel",
          "model_module_version": "1.5.0",
          "state": {
            "_model_module": "@jupyter-widgets/controls",
            "_model_module_version": "1.5.0",
            "_model_name": "ProgressStyleModel",
            "_view_count": null,
            "_view_module": "@jupyter-widgets/base",
            "_view_module_version": "1.2.0",
            "_view_name": "StyleView",
            "bar_color": null,
            "description_width": ""
          }
        },
        "bac1ec416aae400eb0ab8bcee3eab19e": {
          "model_module": "@jupyter-widgets/base",
          "model_name": "LayoutModel",
          "model_module_version": "1.2.0",
          "state": {
            "_model_module": "@jupyter-widgets/base",
            "_model_module_version": "1.2.0",
            "_model_name": "LayoutModel",
            "_view_count": null,
            "_view_module": "@jupyter-widgets/base",
            "_view_module_version": "1.2.0",
            "_view_name": "LayoutView",
            "align_content": null,
            "align_items": null,
            "align_self": null,
            "border": null,
            "bottom": null,
            "display": null,
            "flex": null,
            "flex_flow": null,
            "grid_area": null,
            "grid_auto_columns": null,
            "grid_auto_flow": null,
            "grid_auto_rows": null,
            "grid_column": null,
            "grid_gap": null,
            "grid_row": null,
            "grid_template_areas": null,
            "grid_template_columns": null,
            "grid_template_rows": null,
            "height": null,
            "justify_content": null,
            "justify_items": null,
            "left": null,
            "margin": null,
            "max_height": null,
            "max_width": null,
            "min_height": null,
            "min_width": null,
            "object_fit": null,
            "object_position": null,
            "order": null,
            "overflow": null,
            "overflow_x": null,
            "overflow_y": null,
            "padding": null,
            "right": null,
            "top": null,
            "visibility": null,
            "width": null
          }
        },
        "4e93fcb6ac9d489daa6c19c95c144fb3": {
          "model_module": "@jupyter-widgets/controls",
          "model_name": "DescriptionStyleModel",
          "model_module_version": "1.5.0",
          "state": {
            "_model_module": "@jupyter-widgets/controls",
            "_model_module_version": "1.5.0",
            "_model_name": "DescriptionStyleModel",
            "_view_count": null,
            "_view_module": "@jupyter-widgets/base",
            "_view_module_version": "1.2.0",
            "_view_name": "StyleView",
            "description_width": ""
          }
        },
        "13a1625f341e4ef3b4cca9a029130cf6": {
          "model_module": "@jupyter-widgets/controls",
          "model_name": "HBoxModel",
          "model_module_version": "1.5.0",
          "state": {
            "_dom_classes": [],
            "_model_module": "@jupyter-widgets/controls",
            "_model_module_version": "1.5.0",
            "_model_name": "HBoxModel",
            "_view_count": null,
            "_view_module": "@jupyter-widgets/controls",
            "_view_module_version": "1.5.0",
            "_view_name": "HBoxView",
            "box_style": "",
            "children": [
              "IPY_MODEL_99ccc187fb314bdb84409b3bf8fd1c4c",
              "IPY_MODEL_f0e78eeddd584c70a685a93539cc2348",
              "IPY_MODEL_4d7d3a65121f460b84e2d4b072f00a87"
            ],
            "layout": "IPY_MODEL_7fc8d69e9b4b4c5aa08cea598034dc0a"
          }
        },
        "99ccc187fb314bdb84409b3bf8fd1c4c": {
          "model_module": "@jupyter-widgets/controls",
          "model_name": "HTMLModel",
          "model_module_version": "1.5.0",
          "state": {
            "_dom_classes": [],
            "_model_module": "@jupyter-widgets/controls",
            "_model_module_version": "1.5.0",
            "_model_name": "HTMLModel",
            "_view_count": null,
            "_view_module": "@jupyter-widgets/controls",
            "_view_module_version": "1.5.0",
            "_view_name": "HTMLView",
            "description": "",
            "description_tooltip": null,
            "layout": "IPY_MODEL_678bc2febd2f405ba42ddf91bf41f4f6",
            "placeholder": "​",
            "style": "IPY_MODEL_a6cd1d7000734a05a48b4882e54e7a74",
            "value": "Downloading: 100%"
          }
        },
        "f0e78eeddd584c70a685a93539cc2348": {
          "model_module": "@jupyter-widgets/controls",
          "model_name": "FloatProgressModel",
          "model_module_version": "1.5.0",
          "state": {
            "_dom_classes": [],
            "_model_module": "@jupyter-widgets/controls",
            "_model_module_version": "1.5.0",
            "_model_name": "FloatProgressModel",
            "_view_count": null,
            "_view_module": "@jupyter-widgets/controls",
            "_view_module_version": "1.5.0",
            "_view_name": "ProgressView",
            "bar_style": "success",
            "description": "",
            "description_tooltip": null,
            "layout": "IPY_MODEL_36ac22dc6a92458b892a128835558184",
            "max": 578,
            "min": 0,
            "orientation": "horizontal",
            "style": "IPY_MODEL_75e1b436d58244fb8719f47f0d0489e9",
            "value": 578
          }
        },
        "4d7d3a65121f460b84e2d4b072f00a87": {
          "model_module": "@jupyter-widgets/controls",
          "model_name": "HTMLModel",
          "model_module_version": "1.5.0",
          "state": {
            "_dom_classes": [],
            "_model_module": "@jupyter-widgets/controls",
            "_model_module_version": "1.5.0",
            "_model_name": "HTMLModel",
            "_view_count": null,
            "_view_module": "@jupyter-widgets/controls",
            "_view_module_version": "1.5.0",
            "_view_name": "HTMLView",
            "description": "",
            "description_tooltip": null,
            "layout": "IPY_MODEL_0f842c011a684c89a4d235363ea00753",
            "placeholder": "​",
            "style": "IPY_MODEL_08ffdc51653b442a97bd69aac1eb9f1f",
            "value": " 578/578 [00:00&lt;00:00, 15.2kB/s]"
          }
        },
        "7fc8d69e9b4b4c5aa08cea598034dc0a": {
          "model_module": "@jupyter-widgets/base",
          "model_name": "LayoutModel",
          "model_module_version": "1.2.0",
          "state": {
            "_model_module": "@jupyter-widgets/base",
            "_model_module_version": "1.2.0",
            "_model_name": "LayoutModel",
            "_view_count": null,
            "_view_module": "@jupyter-widgets/base",
            "_view_module_version": "1.2.0",
            "_view_name": "LayoutView",
            "align_content": null,
            "align_items": null,
            "align_self": null,
            "border": null,
            "bottom": null,
            "display": null,
            "flex": null,
            "flex_flow": null,
            "grid_area": null,
            "grid_auto_columns": null,
            "grid_auto_flow": null,
            "grid_auto_rows": null,
            "grid_column": null,
            "grid_gap": null,
            "grid_row": null,
            "grid_template_areas": null,
            "grid_template_columns": null,
            "grid_template_rows": null,
            "height": null,
            "justify_content": null,
            "justify_items": null,
            "left": null,
            "margin": null,
            "max_height": null,
            "max_width": null,
            "min_height": null,
            "min_width": null,
            "object_fit": null,
            "object_position": null,
            "order": null,
            "overflow": null,
            "overflow_x": null,
            "overflow_y": null,
            "padding": null,
            "right": null,
            "top": null,
            "visibility": null,
            "width": null
          }
        },
        "678bc2febd2f405ba42ddf91bf41f4f6": {
          "model_module": "@jupyter-widgets/base",
          "model_name": "LayoutModel",
          "model_module_version": "1.2.0",
          "state": {
            "_model_module": "@jupyter-widgets/base",
            "_model_module_version": "1.2.0",
            "_model_name": "LayoutModel",
            "_view_count": null,
            "_view_module": "@jupyter-widgets/base",
            "_view_module_version": "1.2.0",
            "_view_name": "LayoutView",
            "align_content": null,
            "align_items": null,
            "align_self": null,
            "border": null,
            "bottom": null,
            "display": null,
            "flex": null,
            "flex_flow": null,
            "grid_area": null,
            "grid_auto_columns": null,
            "grid_auto_flow": null,
            "grid_auto_rows": null,
            "grid_column": null,
            "grid_gap": null,
            "grid_row": null,
            "grid_template_areas": null,
            "grid_template_columns": null,
            "grid_template_rows": null,
            "height": null,
            "justify_content": null,
            "justify_items": null,
            "left": null,
            "margin": null,
            "max_height": null,
            "max_width": null,
            "min_height": null,
            "min_width": null,
            "object_fit": null,
            "object_position": null,
            "order": null,
            "overflow": null,
            "overflow_x": null,
            "overflow_y": null,
            "padding": null,
            "right": null,
            "top": null,
            "visibility": null,
            "width": null
          }
        },
        "a6cd1d7000734a05a48b4882e54e7a74": {
          "model_module": "@jupyter-widgets/controls",
          "model_name": "DescriptionStyleModel",
          "model_module_version": "1.5.0",
          "state": {
            "_model_module": "@jupyter-widgets/controls",
            "_model_module_version": "1.5.0",
            "_model_name": "DescriptionStyleModel",
            "_view_count": null,
            "_view_module": "@jupyter-widgets/base",
            "_view_module_version": "1.2.0",
            "_view_name": "StyleView",
            "description_width": ""
          }
        },
        "36ac22dc6a92458b892a128835558184": {
          "model_module": "@jupyter-widgets/base",
          "model_name": "LayoutModel",
          "model_module_version": "1.2.0",
          "state": {
            "_model_module": "@jupyter-widgets/base",
            "_model_module_version": "1.2.0",
            "_model_name": "LayoutModel",
            "_view_count": null,
            "_view_module": "@jupyter-widgets/base",
            "_view_module_version": "1.2.0",
            "_view_name": "LayoutView",
            "align_content": null,
            "align_items": null,
            "align_self": null,
            "border": null,
            "bottom": null,
            "display": null,
            "flex": null,
            "flex_flow": null,
            "grid_area": null,
            "grid_auto_columns": null,
            "grid_auto_flow": null,
            "grid_auto_rows": null,
            "grid_column": null,
            "grid_gap": null,
            "grid_row": null,
            "grid_template_areas": null,
            "grid_template_columns": null,
            "grid_template_rows": null,
            "height": null,
            "justify_content": null,
            "justify_items": null,
            "left": null,
            "margin": null,
            "max_height": null,
            "max_width": null,
            "min_height": null,
            "min_width": null,
            "object_fit": null,
            "object_position": null,
            "order": null,
            "overflow": null,
            "overflow_x": null,
            "overflow_y": null,
            "padding": null,
            "right": null,
            "top": null,
            "visibility": null,
            "width": null
          }
        },
        "75e1b436d58244fb8719f47f0d0489e9": {
          "model_module": "@jupyter-widgets/controls",
          "model_name": "ProgressStyleModel",
          "model_module_version": "1.5.0",
          "state": {
            "_model_module": "@jupyter-widgets/controls",
            "_model_module_version": "1.5.0",
            "_model_name": "ProgressStyleModel",
            "_view_count": null,
            "_view_module": "@jupyter-widgets/base",
            "_view_module_version": "1.2.0",
            "_view_name": "StyleView",
            "bar_color": null,
            "description_width": ""
          }
        },
        "0f842c011a684c89a4d235363ea00753": {
          "model_module": "@jupyter-widgets/base",
          "model_name": "LayoutModel",
          "model_module_version": "1.2.0",
          "state": {
            "_model_module": "@jupyter-widgets/base",
            "_model_module_version": "1.2.0",
            "_model_name": "LayoutModel",
            "_view_count": null,
            "_view_module": "@jupyter-widgets/base",
            "_view_module_version": "1.2.0",
            "_view_name": "LayoutView",
            "align_content": null,
            "align_items": null,
            "align_self": null,
            "border": null,
            "bottom": null,
            "display": null,
            "flex": null,
            "flex_flow": null,
            "grid_area": null,
            "grid_auto_columns": null,
            "grid_auto_flow": null,
            "grid_auto_rows": null,
            "grid_column": null,
            "grid_gap": null,
            "grid_row": null,
            "grid_template_areas": null,
            "grid_template_columns": null,
            "grid_template_rows": null,
            "height": null,
            "justify_content": null,
            "justify_items": null,
            "left": null,
            "margin": null,
            "max_height": null,
            "max_width": null,
            "min_height": null,
            "min_width": null,
            "object_fit": null,
            "object_position": null,
            "order": null,
            "overflow": null,
            "overflow_x": null,
            "overflow_y": null,
            "padding": null,
            "right": null,
            "top": null,
            "visibility": null,
            "width": null
          }
        },
        "08ffdc51653b442a97bd69aac1eb9f1f": {
          "model_module": "@jupyter-widgets/controls",
          "model_name": "DescriptionStyleModel",
          "model_module_version": "1.5.0",
          "state": {
            "_model_module": "@jupyter-widgets/controls",
            "_model_module_version": "1.5.0",
            "_model_name": "DescriptionStyleModel",
            "_view_count": null,
            "_view_module": "@jupyter-widgets/base",
            "_view_module_version": "1.2.0",
            "_view_name": "StyleView",
            "description_width": ""
          }
        },
        "a517e270cf364347a6460c3e8675af3d": {
          "model_module": "@jupyter-widgets/controls",
          "model_name": "HBoxModel",
          "model_module_version": "1.5.0",
          "state": {
            "_dom_classes": [],
            "_model_module": "@jupyter-widgets/controls",
            "_model_module_version": "1.5.0",
            "_model_name": "HBoxModel",
            "_view_count": null,
            "_view_module": "@jupyter-widgets/controls",
            "_view_module_version": "1.5.0",
            "_view_name": "HBoxView",
            "box_style": "",
            "children": [
              "IPY_MODEL_75fdb86d25cd4cef94dbe076d53161a5",
              "IPY_MODEL_74eb0acb3f1640bd9ebd68cc86d44ca8",
              "IPY_MODEL_699a0ebc3fe94c79b0bc14c22ab9f326"
            ],
            "layout": "IPY_MODEL_7d4deab44ee7466391949097ec804c8b"
          }
        },
        "75fdb86d25cd4cef94dbe076d53161a5": {
          "model_module": "@jupyter-widgets/controls",
          "model_name": "HTMLModel",
          "model_module_version": "1.5.0",
          "state": {
            "_dom_classes": [],
            "_model_module": "@jupyter-widgets/controls",
            "_model_module_version": "1.5.0",
            "_model_name": "HTMLModel",
            "_view_count": null,
            "_view_module": "@jupyter-widgets/controls",
            "_view_module_version": "1.5.0",
            "_view_name": "HTMLView",
            "description": "",
            "description_tooltip": null,
            "layout": "IPY_MODEL_8ac757f6efe14379b368859879dd283b",
            "placeholder": "​",
            "style": "IPY_MODEL_aa6d80c9f3474f16aa025a8ef9eb1ec5",
            "value": "Downloading: 100%"
          }
        },
        "74eb0acb3f1640bd9ebd68cc86d44ca8": {
          "model_module": "@jupyter-widgets/controls",
          "model_name": "FloatProgressModel",
          "model_module_version": "1.5.0",
          "state": {
            "_dom_classes": [],
            "_model_module": "@jupyter-widgets/controls",
            "_model_module_version": "1.5.0",
            "_model_name": "FloatProgressModel",
            "_view_count": null,
            "_view_module": "@jupyter-widgets/controls",
            "_view_module_version": "1.5.0",
            "_view_name": "ProgressView",
            "bar_style": "success",
            "description": "",
            "description_tooltip": null,
            "layout": "IPY_MODEL_946af71109ae40b08993721370b57140",
            "max": 457555,
            "min": 0,
            "orientation": "horizontal",
            "style": "IPY_MODEL_5aee5677288945cc92d93f3f4c779eee",
            "value": 457555
          }
        },
        "699a0ebc3fe94c79b0bc14c22ab9f326": {
          "model_module": "@jupyter-widgets/controls",
          "model_name": "HTMLModel",
          "model_module_version": "1.5.0",
          "state": {
            "_dom_classes": [],
            "_model_module": "@jupyter-widgets/controls",
            "_model_module_version": "1.5.0",
            "_model_name": "HTMLModel",
            "_view_count": null,
            "_view_module": "@jupyter-widgets/controls",
            "_view_module_version": "1.5.0",
            "_view_name": "HTMLView",
            "description": "",
            "description_tooltip": null,
            "layout": "IPY_MODEL_2a309722ba9d46aa91378cbe8d90332d",
            "placeholder": "​",
            "style": "IPY_MODEL_44e7a386615e420f829f050e255f6631",
            "value": " 458k/458k [00:01&lt;00:00, 484kB/s]"
          }
        },
        "7d4deab44ee7466391949097ec804c8b": {
          "model_module": "@jupyter-widgets/base",
          "model_name": "LayoutModel",
          "model_module_version": "1.2.0",
          "state": {
            "_model_module": "@jupyter-widgets/base",
            "_model_module_version": "1.2.0",
            "_model_name": "LayoutModel",
            "_view_count": null,
            "_view_module": "@jupyter-widgets/base",
            "_view_module_version": "1.2.0",
            "_view_name": "LayoutView",
            "align_content": null,
            "align_items": null,
            "align_self": null,
            "border": null,
            "bottom": null,
            "display": null,
            "flex": null,
            "flex_flow": null,
            "grid_area": null,
            "grid_auto_columns": null,
            "grid_auto_flow": null,
            "grid_auto_rows": null,
            "grid_column": null,
            "grid_gap": null,
            "grid_row": null,
            "grid_template_areas": null,
            "grid_template_columns": null,
            "grid_template_rows": null,
            "height": null,
            "justify_content": null,
            "justify_items": null,
            "left": null,
            "margin": null,
            "max_height": null,
            "max_width": null,
            "min_height": null,
            "min_width": null,
            "object_fit": null,
            "object_position": null,
            "order": null,
            "overflow": null,
            "overflow_x": null,
            "overflow_y": null,
            "padding": null,
            "right": null,
            "top": null,
            "visibility": null,
            "width": null
          }
        },
        "8ac757f6efe14379b368859879dd283b": {
          "model_module": "@jupyter-widgets/base",
          "model_name": "LayoutModel",
          "model_module_version": "1.2.0",
          "state": {
            "_model_module": "@jupyter-widgets/base",
            "_model_module_version": "1.2.0",
            "_model_name": "LayoutModel",
            "_view_count": null,
            "_view_module": "@jupyter-widgets/base",
            "_view_module_version": "1.2.0",
            "_view_name": "LayoutView",
            "align_content": null,
            "align_items": null,
            "align_self": null,
            "border": null,
            "bottom": null,
            "display": null,
            "flex": null,
            "flex_flow": null,
            "grid_area": null,
            "grid_auto_columns": null,
            "grid_auto_flow": null,
            "grid_auto_rows": null,
            "grid_column": null,
            "grid_gap": null,
            "grid_row": null,
            "grid_template_areas": null,
            "grid_template_columns": null,
            "grid_template_rows": null,
            "height": null,
            "justify_content": null,
            "justify_items": null,
            "left": null,
            "margin": null,
            "max_height": null,
            "max_width": null,
            "min_height": null,
            "min_width": null,
            "object_fit": null,
            "object_position": null,
            "order": null,
            "overflow": null,
            "overflow_x": null,
            "overflow_y": null,
            "padding": null,
            "right": null,
            "top": null,
            "visibility": null,
            "width": null
          }
        },
        "aa6d80c9f3474f16aa025a8ef9eb1ec5": {
          "model_module": "@jupyter-widgets/controls",
          "model_name": "DescriptionStyleModel",
          "model_module_version": "1.5.0",
          "state": {
            "_model_module": "@jupyter-widgets/controls",
            "_model_module_version": "1.5.0",
            "_model_name": "DescriptionStyleModel",
            "_view_count": null,
            "_view_module": "@jupyter-widgets/base",
            "_view_module_version": "1.2.0",
            "_view_name": "StyleView",
            "description_width": ""
          }
        },
        "946af71109ae40b08993721370b57140": {
          "model_module": "@jupyter-widgets/base",
          "model_name": "LayoutModel",
          "model_module_version": "1.2.0",
          "state": {
            "_model_module": "@jupyter-widgets/base",
            "_model_module_version": "1.2.0",
            "_model_name": "LayoutModel",
            "_view_count": null,
            "_view_module": "@jupyter-widgets/base",
            "_view_module_version": "1.2.0",
            "_view_name": "LayoutView",
            "align_content": null,
            "align_items": null,
            "align_self": null,
            "border": null,
            "bottom": null,
            "display": null,
            "flex": null,
            "flex_flow": null,
            "grid_area": null,
            "grid_auto_columns": null,
            "grid_auto_flow": null,
            "grid_auto_rows": null,
            "grid_column": null,
            "grid_gap": null,
            "grid_row": null,
            "grid_template_areas": null,
            "grid_template_columns": null,
            "grid_template_rows": null,
            "height": null,
            "justify_content": null,
            "justify_items": null,
            "left": null,
            "margin": null,
            "max_height": null,
            "max_width": null,
            "min_height": null,
            "min_width": null,
            "object_fit": null,
            "object_position": null,
            "order": null,
            "overflow": null,
            "overflow_x": null,
            "overflow_y": null,
            "padding": null,
            "right": null,
            "top": null,
            "visibility": null,
            "width": null
          }
        },
        "5aee5677288945cc92d93f3f4c779eee": {
          "model_module": "@jupyter-widgets/controls",
          "model_name": "ProgressStyleModel",
          "model_module_version": "1.5.0",
          "state": {
            "_model_module": "@jupyter-widgets/controls",
            "_model_module_version": "1.5.0",
            "_model_name": "ProgressStyleModel",
            "_view_count": null,
            "_view_module": "@jupyter-widgets/base",
            "_view_module_version": "1.2.0",
            "_view_name": "StyleView",
            "bar_color": null,
            "description_width": ""
          }
        },
        "2a309722ba9d46aa91378cbe8d90332d": {
          "model_module": "@jupyter-widgets/base",
          "model_name": "LayoutModel",
          "model_module_version": "1.2.0",
          "state": {
            "_model_module": "@jupyter-widgets/base",
            "_model_module_version": "1.2.0",
            "_model_name": "LayoutModel",
            "_view_count": null,
            "_view_module": "@jupyter-widgets/base",
            "_view_module_version": "1.2.0",
            "_view_name": "LayoutView",
            "align_content": null,
            "align_items": null,
            "align_self": null,
            "border": null,
            "bottom": null,
            "display": null,
            "flex": null,
            "flex_flow": null,
            "grid_area": null,
            "grid_auto_columns": null,
            "grid_auto_flow": null,
            "grid_auto_rows": null,
            "grid_column": null,
            "grid_gap": null,
            "grid_row": null,
            "grid_template_areas": null,
            "grid_template_columns": null,
            "grid_template_rows": null,
            "height": null,
            "justify_content": null,
            "justify_items": null,
            "left": null,
            "margin": null,
            "max_height": null,
            "max_width": null,
            "min_height": null,
            "min_width": null,
            "object_fit": null,
            "object_position": null,
            "order": null,
            "overflow": null,
            "overflow_x": null,
            "overflow_y": null,
            "padding": null,
            "right": null,
            "top": null,
            "visibility": null,
            "width": null
          }
        },
        "44e7a386615e420f829f050e255f6631": {
          "model_module": "@jupyter-widgets/controls",
          "model_name": "DescriptionStyleModel",
          "model_module_version": "1.5.0",
          "state": {
            "_model_module": "@jupyter-widgets/controls",
            "_model_module_version": "1.5.0",
            "_model_name": "DescriptionStyleModel",
            "_view_count": null,
            "_view_module": "@jupyter-widgets/base",
            "_view_module_version": "1.2.0",
            "_view_name": "StyleView",
            "description_width": ""
          }
        },
        "7ae930deb5944ebe88438f1ddf05fa91": {
          "model_module": "@jupyter-widgets/controls",
          "model_name": "HBoxModel",
          "model_module_version": "1.5.0",
          "state": {
            "_dom_classes": [],
            "_model_module": "@jupyter-widgets/controls",
            "_model_module_version": "1.5.0",
            "_model_name": "HBoxModel",
            "_view_count": null,
            "_view_module": "@jupyter-widgets/controls",
            "_view_module_version": "1.5.0",
            "_view_name": "HBoxView",
            "box_style": "",
            "children": [
              "IPY_MODEL_3fa264db5b824736bbf90df4e370e854",
              "IPY_MODEL_ab815c4edba84b42a0b993f55b85e4e5",
              "IPY_MODEL_29e963d044dd484e9790d8afbe4f259a"
            ],
            "layout": "IPY_MODEL_704497d4953c4d3c950f0e21c26ce116"
          }
        },
        "3fa264db5b824736bbf90df4e370e854": {
          "model_module": "@jupyter-widgets/controls",
          "model_name": "HTMLModel",
          "model_module_version": "1.5.0",
          "state": {
            "_dom_classes": [],
            "_model_module": "@jupyter-widgets/controls",
            "_model_module_version": "1.5.0",
            "_model_name": "HTMLModel",
            "_view_count": null,
            "_view_module": "@jupyter-widgets/controls",
            "_view_module_version": "1.5.0",
            "_view_name": "HTMLView",
            "description": "",
            "description_tooltip": null,
            "layout": "IPY_MODEL_1bf33099441e4037b6731aa537a63913",
            "placeholder": "​",
            "style": "IPY_MODEL_95ce5e6dba394be0a92b659d494aa4ff",
            "value": "Downloading: 100%"
          }
        },
        "ab815c4edba84b42a0b993f55b85e4e5": {
          "model_module": "@jupyter-widgets/controls",
          "model_name": "FloatProgressModel",
          "model_module_version": "1.5.0",
          "state": {
            "_dom_classes": [],
            "_model_module": "@jupyter-widgets/controls",
            "_model_module_version": "1.5.0",
            "_model_name": "FloatProgressModel",
            "_view_count": null,
            "_view_module": "@jupyter-widgets/controls",
            "_view_module_version": "1.5.0",
            "_view_name": "ProgressView",
            "bar_style": "success",
            "description": "",
            "description_tooltip": null,
            "layout": "IPY_MODEL_3ab38d1766c34320b250103f51bf81ce",
            "max": 157,
            "min": 0,
            "orientation": "horizontal",
            "style": "IPY_MODEL_c267c0fe5051421ab29a04313f57c298",
            "value": 157
          }
        },
        "29e963d044dd484e9790d8afbe4f259a": {
          "model_module": "@jupyter-widgets/controls",
          "model_name": "HTMLModel",
          "model_module_version": "1.5.0",
          "state": {
            "_dom_classes": [],
            "_model_module": "@jupyter-widgets/controls",
            "_model_module_version": "1.5.0",
            "_model_name": "HTMLModel",
            "_view_count": null,
            "_view_module": "@jupyter-widgets/controls",
            "_view_module_version": "1.5.0",
            "_view_name": "HTMLView",
            "description": "",
            "description_tooltip": null,
            "layout": "IPY_MODEL_2ae12b60dbd346bcae3ac9bd7e270ccc",
            "placeholder": "​",
            "style": "IPY_MODEL_f8054813e8e94ffc9d7674837174b1b1",
            "value": " 157/157 [00:00&lt;00:00, 9.49kB/s]"
          }
        },
        "704497d4953c4d3c950f0e21c26ce116": {
          "model_module": "@jupyter-widgets/base",
          "model_name": "LayoutModel",
          "model_module_version": "1.2.0",
          "state": {
            "_model_module": "@jupyter-widgets/base",
            "_model_module_version": "1.2.0",
            "_model_name": "LayoutModel",
            "_view_count": null,
            "_view_module": "@jupyter-widgets/base",
            "_view_module_version": "1.2.0",
            "_view_name": "LayoutView",
            "align_content": null,
            "align_items": null,
            "align_self": null,
            "border": null,
            "bottom": null,
            "display": null,
            "flex": null,
            "flex_flow": null,
            "grid_area": null,
            "grid_auto_columns": null,
            "grid_auto_flow": null,
            "grid_auto_rows": null,
            "grid_column": null,
            "grid_gap": null,
            "grid_row": null,
            "grid_template_areas": null,
            "grid_template_columns": null,
            "grid_template_rows": null,
            "height": null,
            "justify_content": null,
            "justify_items": null,
            "left": null,
            "margin": null,
            "max_height": null,
            "max_width": null,
            "min_height": null,
            "min_width": null,
            "object_fit": null,
            "object_position": null,
            "order": null,
            "overflow": null,
            "overflow_x": null,
            "overflow_y": null,
            "padding": null,
            "right": null,
            "top": null,
            "visibility": null,
            "width": null
          }
        },
        "1bf33099441e4037b6731aa537a63913": {
          "model_module": "@jupyter-widgets/base",
          "model_name": "LayoutModel",
          "model_module_version": "1.2.0",
          "state": {
            "_model_module": "@jupyter-widgets/base",
            "_model_module_version": "1.2.0",
            "_model_name": "LayoutModel",
            "_view_count": null,
            "_view_module": "@jupyter-widgets/base",
            "_view_module_version": "1.2.0",
            "_view_name": "LayoutView",
            "align_content": null,
            "align_items": null,
            "align_self": null,
            "border": null,
            "bottom": null,
            "display": null,
            "flex": null,
            "flex_flow": null,
            "grid_area": null,
            "grid_auto_columns": null,
            "grid_auto_flow": null,
            "grid_auto_rows": null,
            "grid_column": null,
            "grid_gap": null,
            "grid_row": null,
            "grid_template_areas": null,
            "grid_template_columns": null,
            "grid_template_rows": null,
            "height": null,
            "justify_content": null,
            "justify_items": null,
            "left": null,
            "margin": null,
            "max_height": null,
            "max_width": null,
            "min_height": null,
            "min_width": null,
            "object_fit": null,
            "object_position": null,
            "order": null,
            "overflow": null,
            "overflow_x": null,
            "overflow_y": null,
            "padding": null,
            "right": null,
            "top": null,
            "visibility": null,
            "width": null
          }
        },
        "95ce5e6dba394be0a92b659d494aa4ff": {
          "model_module": "@jupyter-widgets/controls",
          "model_name": "DescriptionStyleModel",
          "model_module_version": "1.5.0",
          "state": {
            "_model_module": "@jupyter-widgets/controls",
            "_model_module_version": "1.5.0",
            "_model_name": "DescriptionStyleModel",
            "_view_count": null,
            "_view_module": "@jupyter-widgets/base",
            "_view_module_version": "1.2.0",
            "_view_name": "StyleView",
            "description_width": ""
          }
        },
        "3ab38d1766c34320b250103f51bf81ce": {
          "model_module": "@jupyter-widgets/base",
          "model_name": "LayoutModel",
          "model_module_version": "1.2.0",
          "state": {
            "_model_module": "@jupyter-widgets/base",
            "_model_module_version": "1.2.0",
            "_model_name": "LayoutModel",
            "_view_count": null,
            "_view_module": "@jupyter-widgets/base",
            "_view_module_version": "1.2.0",
            "_view_name": "LayoutView",
            "align_content": null,
            "align_items": null,
            "align_self": null,
            "border": null,
            "bottom": null,
            "display": null,
            "flex": null,
            "flex_flow": null,
            "grid_area": null,
            "grid_auto_columns": null,
            "grid_auto_flow": null,
            "grid_auto_rows": null,
            "grid_column": null,
            "grid_gap": null,
            "grid_row": null,
            "grid_template_areas": null,
            "grid_template_columns": null,
            "grid_template_rows": null,
            "height": null,
            "justify_content": null,
            "justify_items": null,
            "left": null,
            "margin": null,
            "max_height": null,
            "max_width": null,
            "min_height": null,
            "min_width": null,
            "object_fit": null,
            "object_position": null,
            "order": null,
            "overflow": null,
            "overflow_x": null,
            "overflow_y": null,
            "padding": null,
            "right": null,
            "top": null,
            "visibility": null,
            "width": null
          }
        },
        "c267c0fe5051421ab29a04313f57c298": {
          "model_module": "@jupyter-widgets/controls",
          "model_name": "ProgressStyleModel",
          "model_module_version": "1.5.0",
          "state": {
            "_model_module": "@jupyter-widgets/controls",
            "_model_module_version": "1.5.0",
            "_model_name": "ProgressStyleModel",
            "_view_count": null,
            "_view_module": "@jupyter-widgets/base",
            "_view_module_version": "1.2.0",
            "_view_name": "StyleView",
            "bar_color": null,
            "description_width": ""
          }
        },
        "2ae12b60dbd346bcae3ac9bd7e270ccc": {
          "model_module": "@jupyter-widgets/base",
          "model_name": "LayoutModel",
          "model_module_version": "1.2.0",
          "state": {
            "_model_module": "@jupyter-widgets/base",
            "_model_module_version": "1.2.0",
            "_model_name": "LayoutModel",
            "_view_count": null,
            "_view_module": "@jupyter-widgets/base",
            "_view_module_version": "1.2.0",
            "_view_name": "LayoutView",
            "align_content": null,
            "align_items": null,
            "align_self": null,
            "border": null,
            "bottom": null,
            "display": null,
            "flex": null,
            "flex_flow": null,
            "grid_area": null,
            "grid_auto_columns": null,
            "grid_auto_flow": null,
            "grid_auto_rows": null,
            "grid_column": null,
            "grid_gap": null,
            "grid_row": null,
            "grid_template_areas": null,
            "grid_template_columns": null,
            "grid_template_rows": null,
            "height": null,
            "justify_content": null,
            "justify_items": null,
            "left": null,
            "margin": null,
            "max_height": null,
            "max_width": null,
            "min_height": null,
            "min_width": null,
            "object_fit": null,
            "object_position": null,
            "order": null,
            "overflow": null,
            "overflow_x": null,
            "overflow_y": null,
            "padding": null,
            "right": null,
            "top": null,
            "visibility": null,
            "width": null
          }
        },
        "f8054813e8e94ffc9d7674837174b1b1": {
          "model_module": "@jupyter-widgets/controls",
          "model_name": "DescriptionStyleModel",
          "model_module_version": "1.5.0",
          "state": {
            "_model_module": "@jupyter-widgets/controls",
            "_model_module_version": "1.5.0",
            "_model_name": "DescriptionStyleModel",
            "_view_count": null,
            "_view_module": "@jupyter-widgets/base",
            "_view_module_version": "1.2.0",
            "_view_name": "StyleView",
            "description_width": ""
          }
        },
        "69e344e479874f42b6b707bdc1ee35f5": {
          "model_module": "@jupyter-widgets/controls",
          "model_name": "HBoxModel",
          "model_module_version": "1.5.0",
          "state": {
            "_dom_classes": [],
            "_model_module": "@jupyter-widgets/controls",
            "_model_module_version": "1.5.0",
            "_model_name": "HBoxModel",
            "_view_count": null,
            "_view_module": "@jupyter-widgets/controls",
            "_view_module_version": "1.5.0",
            "_view_name": "HBoxView",
            "box_style": "",
            "children": [
              "IPY_MODEL_cca4f425222f41dbb501a44eb33961de",
              "IPY_MODEL_e3fa8aec778c42b4a51bd48528f0a986",
              "IPY_MODEL_9ebdb922e9ab42eca60fce242d58f442"
            ],
            "layout": "IPY_MODEL_f01985ece84749ab876da777834fa17d"
          }
        },
        "cca4f425222f41dbb501a44eb33961de": {
          "model_module": "@jupyter-widgets/controls",
          "model_name": "HTMLModel",
          "model_module_version": "1.5.0",
          "state": {
            "_dom_classes": [],
            "_model_module": "@jupyter-widgets/controls",
            "_model_module_version": "1.5.0",
            "_model_name": "HTMLModel",
            "_view_count": null,
            "_view_module": "@jupyter-widgets/controls",
            "_view_module_version": "1.5.0",
            "_view_name": "HTMLView",
            "description": "",
            "description_tooltip": null,
            "layout": "IPY_MODEL_6296effdc6e14095abf2723ec7f4da47",
            "placeholder": "​",
            "style": "IPY_MODEL_6498a04901ab4de4845cb4353910cb7a",
            "value": "Downloading: 100%"
          }
        },
        "e3fa8aec778c42b4a51bd48528f0a986": {
          "model_module": "@jupyter-widgets/controls",
          "model_name": "FloatProgressModel",
          "model_module_version": "1.5.0",
          "state": {
            "_dom_classes": [],
            "_model_module": "@jupyter-widgets/controls",
            "_model_module_version": "1.5.0",
            "_model_name": "FloatProgressModel",
            "_view_count": null,
            "_view_module": "@jupyter-widgets/controls",
            "_view_module_version": "1.5.0",
            "_view_name": "ProgressView",
            "bar_style": "success",
            "description": "",
            "description_tooltip": null,
            "layout": "IPY_MODEL_a2ad30ff735646ea8f4ace254aed473b",
            "max": 500388854,
            "min": 0,
            "orientation": "horizontal",
            "style": "IPY_MODEL_9e342b2e57634bb5bb00d565cc9d173a",
            "value": 500388854
          }
        },
        "9ebdb922e9ab42eca60fce242d58f442": {
          "model_module": "@jupyter-widgets/controls",
          "model_name": "HTMLModel",
          "model_module_version": "1.5.0",
          "state": {
            "_dom_classes": [],
            "_model_module": "@jupyter-widgets/controls",
            "_model_module_version": "1.5.0",
            "_model_name": "HTMLModel",
            "_view_count": null,
            "_view_module": "@jupyter-widgets/controls",
            "_view_module_version": "1.5.0",
            "_view_name": "HTMLView",
            "description": "",
            "description_tooltip": null,
            "layout": "IPY_MODEL_f3f4b7cce8914b5682f897c99ba830f2",
            "placeholder": "​",
            "style": "IPY_MODEL_f94eb4ca9cbb4f508a4818bd138e328d",
            "value": " 500M/500M [00:07&lt;00:00, 78.2MB/s]"
          }
        },
        "f01985ece84749ab876da777834fa17d": {
          "model_module": "@jupyter-widgets/base",
          "model_name": "LayoutModel",
          "model_module_version": "1.2.0",
          "state": {
            "_model_module": "@jupyter-widgets/base",
            "_model_module_version": "1.2.0",
            "_model_name": "LayoutModel",
            "_view_count": null,
            "_view_module": "@jupyter-widgets/base",
            "_view_module_version": "1.2.0",
            "_view_name": "LayoutView",
            "align_content": null,
            "align_items": null,
            "align_self": null,
            "border": null,
            "bottom": null,
            "display": null,
            "flex": null,
            "flex_flow": null,
            "grid_area": null,
            "grid_auto_columns": null,
            "grid_auto_flow": null,
            "grid_auto_rows": null,
            "grid_column": null,
            "grid_gap": null,
            "grid_row": null,
            "grid_template_areas": null,
            "grid_template_columns": null,
            "grid_template_rows": null,
            "height": null,
            "justify_content": null,
            "justify_items": null,
            "left": null,
            "margin": null,
            "max_height": null,
            "max_width": null,
            "min_height": null,
            "min_width": null,
            "object_fit": null,
            "object_position": null,
            "order": null,
            "overflow": null,
            "overflow_x": null,
            "overflow_y": null,
            "padding": null,
            "right": null,
            "top": null,
            "visibility": null,
            "width": null
          }
        },
        "6296effdc6e14095abf2723ec7f4da47": {
          "model_module": "@jupyter-widgets/base",
          "model_name": "LayoutModel",
          "model_module_version": "1.2.0",
          "state": {
            "_model_module": "@jupyter-widgets/base",
            "_model_module_version": "1.2.0",
            "_model_name": "LayoutModel",
            "_view_count": null,
            "_view_module": "@jupyter-widgets/base",
            "_view_module_version": "1.2.0",
            "_view_name": "LayoutView",
            "align_content": null,
            "align_items": null,
            "align_self": null,
            "border": null,
            "bottom": null,
            "display": null,
            "flex": null,
            "flex_flow": null,
            "grid_area": null,
            "grid_auto_columns": null,
            "grid_auto_flow": null,
            "grid_auto_rows": null,
            "grid_column": null,
            "grid_gap": null,
            "grid_row": null,
            "grid_template_areas": null,
            "grid_template_columns": null,
            "grid_template_rows": null,
            "height": null,
            "justify_content": null,
            "justify_items": null,
            "left": null,
            "margin": null,
            "max_height": null,
            "max_width": null,
            "min_height": null,
            "min_width": null,
            "object_fit": null,
            "object_position": null,
            "order": null,
            "overflow": null,
            "overflow_x": null,
            "overflow_y": null,
            "padding": null,
            "right": null,
            "top": null,
            "visibility": null,
            "width": null
          }
        },
        "6498a04901ab4de4845cb4353910cb7a": {
          "model_module": "@jupyter-widgets/controls",
          "model_name": "DescriptionStyleModel",
          "model_module_version": "1.5.0",
          "state": {
            "_model_module": "@jupyter-widgets/controls",
            "_model_module_version": "1.5.0",
            "_model_name": "DescriptionStyleModel",
            "_view_count": null,
            "_view_module": "@jupyter-widgets/base",
            "_view_module_version": "1.2.0",
            "_view_name": "StyleView",
            "description_width": ""
          }
        },
        "a2ad30ff735646ea8f4ace254aed473b": {
          "model_module": "@jupyter-widgets/base",
          "model_name": "LayoutModel",
          "model_module_version": "1.2.0",
          "state": {
            "_model_module": "@jupyter-widgets/base",
            "_model_module_version": "1.2.0",
            "_model_name": "LayoutModel",
            "_view_count": null,
            "_view_module": "@jupyter-widgets/base",
            "_view_module_version": "1.2.0",
            "_view_name": "LayoutView",
            "align_content": null,
            "align_items": null,
            "align_self": null,
            "border": null,
            "bottom": null,
            "display": null,
            "flex": null,
            "flex_flow": null,
            "grid_area": null,
            "grid_auto_columns": null,
            "grid_auto_flow": null,
            "grid_auto_rows": null,
            "grid_column": null,
            "grid_gap": null,
            "grid_row": null,
            "grid_template_areas": null,
            "grid_template_columns": null,
            "grid_template_rows": null,
            "height": null,
            "justify_content": null,
            "justify_items": null,
            "left": null,
            "margin": null,
            "max_height": null,
            "max_width": null,
            "min_height": null,
            "min_width": null,
            "object_fit": null,
            "object_position": null,
            "order": null,
            "overflow": null,
            "overflow_x": null,
            "overflow_y": null,
            "padding": null,
            "right": null,
            "top": null,
            "visibility": null,
            "width": null
          }
        },
        "9e342b2e57634bb5bb00d565cc9d173a": {
          "model_module": "@jupyter-widgets/controls",
          "model_name": "ProgressStyleModel",
          "model_module_version": "1.5.0",
          "state": {
            "_model_module": "@jupyter-widgets/controls",
            "_model_module_version": "1.5.0",
            "_model_name": "ProgressStyleModel",
            "_view_count": null,
            "_view_module": "@jupyter-widgets/base",
            "_view_module_version": "1.2.0",
            "_view_name": "StyleView",
            "bar_color": null,
            "description_width": ""
          }
        },
        "f3f4b7cce8914b5682f897c99ba830f2": {
          "model_module": "@jupyter-widgets/base",
          "model_name": "LayoutModel",
          "model_module_version": "1.2.0",
          "state": {
            "_model_module": "@jupyter-widgets/base",
            "_model_module_version": "1.2.0",
            "_model_name": "LayoutModel",
            "_view_count": null,
            "_view_module": "@jupyter-widgets/base",
            "_view_module_version": "1.2.0",
            "_view_name": "LayoutView",
            "align_content": null,
            "align_items": null,
            "align_self": null,
            "border": null,
            "bottom": null,
            "display": null,
            "flex": null,
            "flex_flow": null,
            "grid_area": null,
            "grid_auto_columns": null,
            "grid_auto_flow": null,
            "grid_auto_rows": null,
            "grid_column": null,
            "grid_gap": null,
            "grid_row": null,
            "grid_template_areas": null,
            "grid_template_columns": null,
            "grid_template_rows": null,
            "height": null,
            "justify_content": null,
            "justify_items": null,
            "left": null,
            "margin": null,
            "max_height": null,
            "max_width": null,
            "min_height": null,
            "min_width": null,
            "object_fit": null,
            "object_position": null,
            "order": null,
            "overflow": null,
            "overflow_x": null,
            "overflow_y": null,
            "padding": null,
            "right": null,
            "top": null,
            "visibility": null,
            "width": null
          }
        },
        "f94eb4ca9cbb4f508a4818bd138e328d": {
          "model_module": "@jupyter-widgets/controls",
          "model_name": "DescriptionStyleModel",
          "model_module_version": "1.5.0",
          "state": {
            "_model_module": "@jupyter-widgets/controls",
            "_model_module_version": "1.5.0",
            "_model_name": "DescriptionStyleModel",
            "_view_count": null,
            "_view_module": "@jupyter-widgets/base",
            "_view_module_version": "1.2.0",
            "_view_name": "StyleView",
            "description_width": ""
          }
        },
        "9cea15bcd2a749dca194b47c52fd9746": {
          "model_module": "@jupyter-widgets/controls",
          "model_name": "HBoxModel",
          "model_module_version": "1.5.0",
          "state": {
            "_dom_classes": [],
            "_model_module": "@jupyter-widgets/controls",
            "_model_module_version": "1.5.0",
            "_model_name": "HBoxModel",
            "_view_count": null,
            "_view_module": "@jupyter-widgets/controls",
            "_view_module_version": "1.5.0",
            "_view_name": "HBoxView",
            "box_style": "",
            "children": [
              "IPY_MODEL_ef904551a15647e78d370409a6942ee9",
              "IPY_MODEL_b8b0b88b30ae4403bc226c7df0afa0b5",
              "IPY_MODEL_0356e8188f394e6caeefd1ce304ddbc3"
            ],
            "layout": "IPY_MODEL_1b12a1d7d03d49e1abcfbd2b2df8581f"
          }
        },
        "ef904551a15647e78d370409a6942ee9": {
          "model_module": "@jupyter-widgets/controls",
          "model_name": "HTMLModel",
          "model_module_version": "1.5.0",
          "state": {
            "_dom_classes": [],
            "_model_module": "@jupyter-widgets/controls",
            "_model_module_version": "1.5.0",
            "_model_name": "HTMLModel",
            "_view_count": null,
            "_view_module": "@jupyter-widgets/controls",
            "_view_module_version": "1.5.0",
            "_view_name": "HTMLView",
            "description": "",
            "description_tooltip": null,
            "layout": "IPY_MODEL_4da1c9fdf33948e5b1889ace7cd496b4",
            "placeholder": "​",
            "style": "IPY_MODEL_9194159feccf4ddc99c684b9f79041ff",
            "value": "100%"
          }
        },
        "b8b0b88b30ae4403bc226c7df0afa0b5": {
          "model_module": "@jupyter-widgets/controls",
          "model_name": "FloatProgressModel",
          "model_module_version": "1.5.0",
          "state": {
            "_dom_classes": [],
            "_model_module": "@jupyter-widgets/controls",
            "_model_module_version": "1.5.0",
            "_model_name": "FloatProgressModel",
            "_view_count": null,
            "_view_module": "@jupyter-widgets/controls",
            "_view_module_version": "1.5.0",
            "_view_name": "ProgressView",
            "bar_style": "success",
            "description": "",
            "description_tooltip": null,
            "layout": "IPY_MODEL_0e4f1a2f84d74fc3b37d512edabc20e9",
            "max": 1304,
            "min": 0,
            "orientation": "horizontal",
            "style": "IPY_MODEL_42e5d4cbf9fe4597ac4b47756f0718c3",
            "value": 1304
          }
        },
        "0356e8188f394e6caeefd1ce304ddbc3": {
          "model_module": "@jupyter-widgets/controls",
          "model_name": "HTMLModel",
          "model_module_version": "1.5.0",
          "state": {
            "_dom_classes": [],
            "_model_module": "@jupyter-widgets/controls",
            "_model_module_version": "1.5.0",
            "_model_name": "HTMLModel",
            "_view_count": null,
            "_view_module": "@jupyter-widgets/controls",
            "_view_module_version": "1.5.0",
            "_view_name": "HTMLView",
            "description": "",
            "description_tooltip": null,
            "layout": "IPY_MODEL_dd4092d32a3e42ea95149cde73dafc49",
            "placeholder": "​",
            "style": "IPY_MODEL_3a02e21c0e4c4764826907b0b33327c5",
            "value": " 1304/1304 [02:28&lt;00:00,  8.86it/s]"
          }
        },
        "1b12a1d7d03d49e1abcfbd2b2df8581f": {
          "model_module": "@jupyter-widgets/base",
          "model_name": "LayoutModel",
          "model_module_version": "1.2.0",
          "state": {
            "_model_module": "@jupyter-widgets/base",
            "_model_module_version": "1.2.0",
            "_model_name": "LayoutModel",
            "_view_count": null,
            "_view_module": "@jupyter-widgets/base",
            "_view_module_version": "1.2.0",
            "_view_name": "LayoutView",
            "align_content": null,
            "align_items": null,
            "align_self": null,
            "border": null,
            "bottom": null,
            "display": null,
            "flex": null,
            "flex_flow": null,
            "grid_area": null,
            "grid_auto_columns": null,
            "grid_auto_flow": null,
            "grid_auto_rows": null,
            "grid_column": null,
            "grid_gap": null,
            "grid_row": null,
            "grid_template_areas": null,
            "grid_template_columns": null,
            "grid_template_rows": null,
            "height": null,
            "justify_content": null,
            "justify_items": null,
            "left": null,
            "margin": null,
            "max_height": null,
            "max_width": null,
            "min_height": null,
            "min_width": null,
            "object_fit": null,
            "object_position": null,
            "order": null,
            "overflow": null,
            "overflow_x": null,
            "overflow_y": null,
            "padding": null,
            "right": null,
            "top": null,
            "visibility": null,
            "width": null
          }
        },
        "4da1c9fdf33948e5b1889ace7cd496b4": {
          "model_module": "@jupyter-widgets/base",
          "model_name": "LayoutModel",
          "model_module_version": "1.2.0",
          "state": {
            "_model_module": "@jupyter-widgets/base",
            "_model_module_version": "1.2.0",
            "_model_name": "LayoutModel",
            "_view_count": null,
            "_view_module": "@jupyter-widgets/base",
            "_view_module_version": "1.2.0",
            "_view_name": "LayoutView",
            "align_content": null,
            "align_items": null,
            "align_self": null,
            "border": null,
            "bottom": null,
            "display": null,
            "flex": null,
            "flex_flow": null,
            "grid_area": null,
            "grid_auto_columns": null,
            "grid_auto_flow": null,
            "grid_auto_rows": null,
            "grid_column": null,
            "grid_gap": null,
            "grid_row": null,
            "grid_template_areas": null,
            "grid_template_columns": null,
            "grid_template_rows": null,
            "height": null,
            "justify_content": null,
            "justify_items": null,
            "left": null,
            "margin": null,
            "max_height": null,
            "max_width": null,
            "min_height": null,
            "min_width": null,
            "object_fit": null,
            "object_position": null,
            "order": null,
            "overflow": null,
            "overflow_x": null,
            "overflow_y": null,
            "padding": null,
            "right": null,
            "top": null,
            "visibility": null,
            "width": null
          }
        },
        "9194159feccf4ddc99c684b9f79041ff": {
          "model_module": "@jupyter-widgets/controls",
          "model_name": "DescriptionStyleModel",
          "model_module_version": "1.5.0",
          "state": {
            "_model_module": "@jupyter-widgets/controls",
            "_model_module_version": "1.5.0",
            "_model_name": "DescriptionStyleModel",
            "_view_count": null,
            "_view_module": "@jupyter-widgets/base",
            "_view_module_version": "1.2.0",
            "_view_name": "StyleView",
            "description_width": ""
          }
        },
        "0e4f1a2f84d74fc3b37d512edabc20e9": {
          "model_module": "@jupyter-widgets/base",
          "model_name": "LayoutModel",
          "model_module_version": "1.2.0",
          "state": {
            "_model_module": "@jupyter-widgets/base",
            "_model_module_version": "1.2.0",
            "_model_name": "LayoutModel",
            "_view_count": null,
            "_view_module": "@jupyter-widgets/base",
            "_view_module_version": "1.2.0",
            "_view_name": "LayoutView",
            "align_content": null,
            "align_items": null,
            "align_self": null,
            "border": null,
            "bottom": null,
            "display": null,
            "flex": null,
            "flex_flow": null,
            "grid_area": null,
            "grid_auto_columns": null,
            "grid_auto_flow": null,
            "grid_auto_rows": null,
            "grid_column": null,
            "grid_gap": null,
            "grid_row": null,
            "grid_template_areas": null,
            "grid_template_columns": null,
            "grid_template_rows": null,
            "height": null,
            "justify_content": null,
            "justify_items": null,
            "left": null,
            "margin": null,
            "max_height": null,
            "max_width": null,
            "min_height": null,
            "min_width": null,
            "object_fit": null,
            "object_position": null,
            "order": null,
            "overflow": null,
            "overflow_x": null,
            "overflow_y": null,
            "padding": null,
            "right": null,
            "top": null,
            "visibility": null,
            "width": null
          }
        },
        "42e5d4cbf9fe4597ac4b47756f0718c3": {
          "model_module": "@jupyter-widgets/controls",
          "model_name": "ProgressStyleModel",
          "model_module_version": "1.5.0",
          "state": {
            "_model_module": "@jupyter-widgets/controls",
            "_model_module_version": "1.5.0",
            "_model_name": "ProgressStyleModel",
            "_view_count": null,
            "_view_module": "@jupyter-widgets/base",
            "_view_module_version": "1.2.0",
            "_view_name": "StyleView",
            "bar_color": null,
            "description_width": ""
          }
        },
        "dd4092d32a3e42ea95149cde73dafc49": {
          "model_module": "@jupyter-widgets/base",
          "model_name": "LayoutModel",
          "model_module_version": "1.2.0",
          "state": {
            "_model_module": "@jupyter-widgets/base",
            "_model_module_version": "1.2.0",
            "_model_name": "LayoutModel",
            "_view_count": null,
            "_view_module": "@jupyter-widgets/base",
            "_view_module_version": "1.2.0",
            "_view_name": "LayoutView",
            "align_content": null,
            "align_items": null,
            "align_self": null,
            "border": null,
            "bottom": null,
            "display": null,
            "flex": null,
            "flex_flow": null,
            "grid_area": null,
            "grid_auto_columns": null,
            "grid_auto_flow": null,
            "grid_auto_rows": null,
            "grid_column": null,
            "grid_gap": null,
            "grid_row": null,
            "grid_template_areas": null,
            "grid_template_columns": null,
            "grid_template_rows": null,
            "height": null,
            "justify_content": null,
            "justify_items": null,
            "left": null,
            "margin": null,
            "max_height": null,
            "max_width": null,
            "min_height": null,
            "min_width": null,
            "object_fit": null,
            "object_position": null,
            "order": null,
            "overflow": null,
            "overflow_x": null,
            "overflow_y": null,
            "padding": null,
            "right": null,
            "top": null,
            "visibility": null,
            "width": null
          }
        },
        "3a02e21c0e4c4764826907b0b33327c5": {
          "model_module": "@jupyter-widgets/controls",
          "model_name": "DescriptionStyleModel",
          "model_module_version": "1.5.0",
          "state": {
            "_model_module": "@jupyter-widgets/controls",
            "_model_module_version": "1.5.0",
            "_model_name": "DescriptionStyleModel",
            "_view_count": null,
            "_view_module": "@jupyter-widgets/base",
            "_view_module_version": "1.2.0",
            "_view_name": "StyleView",
            "description_width": ""
          }
        }
      }
    },
    "accelerator": "GPU"
  },
  "cells": [
    {
      "cell_type": "markdown",
      "metadata": {
        "id": "view-in-github",
        "colab_type": "text"
      },
      "source": [
        "<a href=\"https://colab.research.google.com/github/cicl-iscl/LeWiDi_SemEval2023/blob/main/Notebooks/MTL/MTL_Bert_2heads.ipynb\" target=\"_parent\"><img src=\"https://colab.research.google.com/assets/colab-badge.svg\" alt=\"Open In Colab\"/></a>"
      ]
    },
    {
      "cell_type": "code",
      "source": [
        "!pip install transformers\n",
        "!pip install wandb"
      ],
      "metadata": {
        "id": "4KRnpUy22K5F"
      },
      "execution_count": null,
      "outputs": []
    },
    {
      "cell_type": "code",
      "source": [],
      "metadata": {
        "id": "9fSCxndv5idL"
      },
      "execution_count": 1,
      "outputs": []
    },
    {
      "cell_type": "markdown",
      "source": [
        "# MTL approach\n",
        "- Use 4 output nodes, 2 for hard labels, 2 for soft\n",
        "- Cross Entropy error for both tasks\n",
        "- Fine tune whole model - to share knowledge over tasks "
      ],
      "metadata": {
        "id": "YmVysd855i69"
      }
    },
    {
      "cell_type": "code",
      "source": [
        "#TODO: Fit training to 2 loss functions"
      ],
      "metadata": {
        "id": "ylv-2VGIxW_C"
      },
      "execution_count": 2,
      "outputs": []
    },
    {
      "cell_type": "code",
      "source": [
        "import wandb\n",
        "wandb.login()"
      ],
      "metadata": {
        "colab": {
          "base_uri": "https://localhost:8080/",
          "height": 139
        },
        "id": "kLUrOiEf2Sp6",
        "outputId": "43db6d46-9722-476f-d348-1cefea003a51"
      },
      "execution_count": 3,
      "outputs": [
        {
          "output_type": "stream",
          "name": "stderr",
          "text": [
            "ERROR:wandb.jupyter:Failed to detect the name of this notebook, you can set it manually with the WANDB_NOTEBOOK_NAME environment variable to enable code saving.\n"
          ]
        },
        {
          "output_type": "display_data",
          "data": {
            "text/plain": [
              "<IPython.core.display.Javascript object>"
            ],
            "application/javascript": [
              "\n",
              "        window._wandbApiKey = new Promise((resolve, reject) => {\n",
              "            function loadScript(url) {\n",
              "            return new Promise(function(resolve, reject) {\n",
              "                let newScript = document.createElement(\"script\");\n",
              "                newScript.onerror = reject;\n",
              "                newScript.onload = resolve;\n",
              "                document.body.appendChild(newScript);\n",
              "                newScript.src = url;\n",
              "            });\n",
              "            }\n",
              "            loadScript(\"https://cdn.jsdelivr.net/npm/postmate/build/postmate.min.js\").then(() => {\n",
              "            const iframe = document.createElement('iframe')\n",
              "            iframe.style.cssText = \"width:0;height:0;border:none\"\n",
              "            document.body.appendChild(iframe)\n",
              "            const handshake = new Postmate({\n",
              "                container: iframe,\n",
              "                url: 'https://wandb.ai/authorize'\n",
              "            });\n",
              "            const timeout = setTimeout(() => reject(\"Couldn't auto authenticate\"), 5000)\n",
              "            handshake.then(function(child) {\n",
              "                child.on('authorize', data => {\n",
              "                    clearTimeout(timeout)\n",
              "                    resolve(data)\n",
              "                });\n",
              "            });\n",
              "            })\n",
              "        });\n",
              "    "
            ]
          },
          "metadata": {}
        },
        {
          "output_type": "stream",
          "name": "stderr",
          "text": [
            "\u001b[34m\u001b[1mwandb\u001b[0m: Logging into wandb.ai. (Learn how to deploy a W&B server locally: https://wandb.me/wandb-server)\n",
            "\u001b[34m\u001b[1mwandb\u001b[0m: You can find your API key in your browser here: https://wandb.ai/authorize\n",
            "wandb: Paste an API key from your profile and hit enter, or press ctrl+c to quit: "
          ]
        },
        {
          "name": "stdout",
          "output_type": "stream",
          "text": [
            "··········\n"
          ]
        },
        {
          "output_type": "stream",
          "name": "stderr",
          "text": [
            "\u001b[34m\u001b[1mwandb\u001b[0m: Appending key for api.wandb.ai to your netrc file: /root/.netrc\n"
          ]
        },
        {
          "output_type": "execute_result",
          "data": {
            "text/plain": [
              "True"
            ]
          },
          "metadata": {},
          "execution_count": 3
        }
      ]
    },
    {
      "cell_type": "code",
      "source": [
        "from drive.MyDrive.cicl_data.code import read_data\n",
        "# from drive.MyDrive.cicl_data.code import CustomLabelDataset"
      ],
      "metadata": {
        "id": "ZedtcbT22LoE"
      },
      "execution_count": 4,
      "outputs": []
    },
    {
      "cell_type": "code",
      "source": [
        "import numpy as np\n",
        "import pandas as pd\n",
        "import torch\n",
        "from transformers import AutoTokenizer, AutoModelForSequenceClassification, get_scheduler\n",
        "# from datasets import Dataset\n",
        "import torch.nn.functional as Fun\n",
        "from torch.utils.data import Dataset, random_split, DataLoader\n",
        "from torch.optim import AdamW\n",
        "import torch.nn as nn"
      ],
      "metadata": {
        "id": "RssAgMX314if"
      },
      "execution_count": 5,
      "outputs": []
    },
    {
      "cell_type": "code",
      "source": [
        "device = \"cuda\" if torch.cuda.is_available() else \"cpu\""
      ],
      "metadata": {
        "id": "uLkclSt57CSs"
      },
      "execution_count": 6,
      "outputs": []
    },
    {
      "cell_type": "code",
      "source": [
        "data_dict = read_data()\n",
        "df_all = pd.concat([data_dict[k] for k in data_dict.keys()])"
      ],
      "metadata": {
        "id": "b0lq4E472D6l"
      },
      "execution_count": 7,
      "outputs": []
    },
    {
      "cell_type": "markdown",
      "source": [
        "### Pretrained model"
      ],
      "metadata": {
        "id": "-FFCNddg5uOl"
      }
    },
    {
      "cell_type": "code",
      "source": [
        "# Maybe load from wandb in future\n",
        "tokenizer = AutoTokenizer.from_pretrained(\"lanwuwei/GigaBERT-v4-Arabic-and-English\", do_lower_case=True)\n",
        "# model_class = AutoModelForSequenceClassification.from_pretrained(\"lanwuwei/GigaBERT-v4-Arabic-and-English\", num_labels=4)"
      ],
      "metadata": {
        "colab": {
          "base_uri": "https://localhost:8080/",
          "height": 145,
          "referenced_widgets": [
            "de90794b55e44223b0847f71630648ac",
            "89b099eeb3a64882b4bfe29c38b72764",
            "64a13e93ef764bf2b42b1136b2953e17",
            "2fc0a9c77a34459785b5bf479cc985b3",
            "a499f6b3cd7a4da0b74bb897ea05e8de",
            "7959935405c64d67a71a2394d0c394f1",
            "2aa45905aff646219b36a9c6bcad8386",
            "1b6796028f8c429297221568f868c0b2",
            "354eec8aae224efa8713fb5fd02d1dba",
            "bac1ec416aae400eb0ab8bcee3eab19e",
            "4e93fcb6ac9d489daa6c19c95c144fb3",
            "13a1625f341e4ef3b4cca9a029130cf6",
            "99ccc187fb314bdb84409b3bf8fd1c4c",
            "f0e78eeddd584c70a685a93539cc2348",
            "4d7d3a65121f460b84e2d4b072f00a87",
            "7fc8d69e9b4b4c5aa08cea598034dc0a",
            "678bc2febd2f405ba42ddf91bf41f4f6",
            "a6cd1d7000734a05a48b4882e54e7a74",
            "36ac22dc6a92458b892a128835558184",
            "75e1b436d58244fb8719f47f0d0489e9",
            "0f842c011a684c89a4d235363ea00753",
            "08ffdc51653b442a97bd69aac1eb9f1f",
            "a517e270cf364347a6460c3e8675af3d",
            "75fdb86d25cd4cef94dbe076d53161a5",
            "74eb0acb3f1640bd9ebd68cc86d44ca8",
            "699a0ebc3fe94c79b0bc14c22ab9f326",
            "7d4deab44ee7466391949097ec804c8b",
            "8ac757f6efe14379b368859879dd283b",
            "aa6d80c9f3474f16aa025a8ef9eb1ec5",
            "946af71109ae40b08993721370b57140",
            "5aee5677288945cc92d93f3f4c779eee",
            "2a309722ba9d46aa91378cbe8d90332d",
            "44e7a386615e420f829f050e255f6631",
            "7ae930deb5944ebe88438f1ddf05fa91",
            "3fa264db5b824736bbf90df4e370e854",
            "ab815c4edba84b42a0b993f55b85e4e5",
            "29e963d044dd484e9790d8afbe4f259a",
            "704497d4953c4d3c950f0e21c26ce116",
            "1bf33099441e4037b6731aa537a63913",
            "95ce5e6dba394be0a92b659d494aa4ff",
            "3ab38d1766c34320b250103f51bf81ce",
            "c267c0fe5051421ab29a04313f57c298",
            "2ae12b60dbd346bcae3ac9bd7e270ccc",
            "f8054813e8e94ffc9d7674837174b1b1"
          ]
        },
        "id": "3K8_di7C2edU",
        "outputId": "893a1762-8ef0-4864-af6d-6243392340b0"
      },
      "execution_count": 8,
      "outputs": [
        {
          "output_type": "display_data",
          "data": {
            "text/plain": [
              "Downloading:   0%|          | 0.00/24.0 [00:00<?, ?B/s]"
            ],
            "application/vnd.jupyter.widget-view+json": {
              "version_major": 2,
              "version_minor": 0,
              "model_id": "de90794b55e44223b0847f71630648ac"
            }
          },
          "metadata": {}
        },
        {
          "output_type": "display_data",
          "data": {
            "text/plain": [
              "Downloading:   0%|          | 0.00/578 [00:00<?, ?B/s]"
            ],
            "application/vnd.jupyter.widget-view+json": {
              "version_major": 2,
              "version_minor": 0,
              "model_id": "13a1625f341e4ef3b4cca9a029130cf6"
            }
          },
          "metadata": {}
        },
        {
          "output_type": "display_data",
          "data": {
            "text/plain": [
              "Downloading:   0%|          | 0.00/458k [00:00<?, ?B/s]"
            ],
            "application/vnd.jupyter.widget-view+json": {
              "version_major": 2,
              "version_minor": 0,
              "model_id": "a517e270cf364347a6460c3e8675af3d"
            }
          },
          "metadata": {}
        },
        {
          "output_type": "display_data",
          "data": {
            "text/plain": [
              "Downloading:   0%|          | 0.00/157 [00:00<?, ?B/s]"
            ],
            "application/vnd.jupyter.widget-view+json": {
              "version_major": 2,
              "version_minor": 0,
              "model_id": "7ae930deb5944ebe88438f1ddf05fa91"
            }
          },
          "metadata": {}
        }
      ]
    },
    {
      "cell_type": "code",
      "source": [
        "from transformers import BertModel\n",
        "model_base = BertModel.from_pretrained(\"lanwuwei/GigaBERT-v4-Arabic-and-English\", num_labels=4)\n",
        "# output of model: https://huggingface.co/docs/transformers/main_classes/output#transformers.modeling_outputs.BaseModelOutputWithPoolingAndCrossAttentions"
      ],
      "metadata": {
        "colab": {
          "base_uri": "https://localhost:8080/",
          "height": 121,
          "referenced_widgets": [
            "69e344e479874f42b6b707bdc1ee35f5",
            "cca4f425222f41dbb501a44eb33961de",
            "e3fa8aec778c42b4a51bd48528f0a986",
            "9ebdb922e9ab42eca60fce242d58f442",
            "f01985ece84749ab876da777834fa17d",
            "6296effdc6e14095abf2723ec7f4da47",
            "6498a04901ab4de4845cb4353910cb7a",
            "a2ad30ff735646ea8f4ace254aed473b",
            "9e342b2e57634bb5bb00d565cc9d173a",
            "f3f4b7cce8914b5682f897c99ba830f2",
            "f94eb4ca9cbb4f508a4818bd138e328d"
          ]
        },
        "id": "9G0OzXTNamcx",
        "outputId": "dc70537b-fa50-4758-a473-a72ae219798b"
      },
      "execution_count": 9,
      "outputs": [
        {
          "output_type": "display_data",
          "data": {
            "text/plain": [
              "Downloading:   0%|          | 0.00/500M [00:00<?, ?B/s]"
            ],
            "application/vnd.jupyter.widget-view+json": {
              "version_major": 2,
              "version_minor": 0,
              "model_id": "69e344e479874f42b6b707bdc1ee35f5"
            }
          },
          "metadata": {}
        },
        {
          "output_type": "stream",
          "name": "stderr",
          "text": [
            "Some weights of the model checkpoint at lanwuwei/GigaBERT-v4-Arabic-and-English were not used when initializing BertModel: ['cls.predictions.decoder.weight', 'cls.seq_relationship.weight', 'cls.predictions.transform.dense.bias', 'cls.predictions.transform.LayerNorm.bias', 'cls.seq_relationship.bias', 'cls.predictions.bias', 'cls.predictions.transform.LayerNorm.weight', 'cls.predictions.transform.dense.weight', 'cls.predictions.decoder.bias']\n",
            "- This IS expected if you are initializing BertModel from the checkpoint of a model trained on another task or with another architecture (e.g. initializing a BertForSequenceClassification model from a BertForPreTraining model).\n",
            "- This IS NOT expected if you are initializing BertModel from the checkpoint of a model that you expect to be exactly identical (initializing a BertForSequenceClassification model from a BertForSequenceClassification model).\n"
          ]
        }
      ]
    },
    {
      "cell_type": "code",
      "source": [
        "class MTLModel(nn.Module):\n",
        "  def __init__(self):\n",
        "    super().__init__()\n",
        "    self.bert = model_base\n",
        "    self.linear_hl = nn.Linear(768, 2)\n",
        "    self.linear_sl = nn.Linear(768, 2)\n",
        "    self.softmax = nn.Softmax\n",
        "    # [8, 240, 768]\n",
        "\n",
        "  def forward(self, input_ids, attention_mask, token_type_ids):\n",
        "    \"\"\"a linear layer on top of the pooled output (https://huggingface.co/transformers/v3.0.2/model_doc/bert.html#bertforsequenceclassification)\"\"\"\n",
        "    x = self.bert(input_ids=input_ids, attention_mask=attention_mask, token_type_ids=token_type_ids)\n",
        "    x_hl = self.linear_hl(x.pooler_output)\n",
        "    # x_hl = self.softmax(x_hl, axis=-1)\n",
        "\n",
        "    x_sl = self.linear_sl(x.pooler_output)\n",
        "    return x_hl, x_sl"
      ],
      "metadata": {
        "id": "NfZHklM7Z5Zs"
      },
      "execution_count": 10,
      "outputs": []
    },
    {
      "cell_type": "code",
      "source": [
        "mtl_model = MTLModel().to(device)"
      ],
      "metadata": {
        "id": "U6mefA7r6-Jx"
      },
      "execution_count": 11,
      "outputs": []
    },
    {
      "cell_type": "code",
      "source": [],
      "metadata": {
        "id": "2FAzjgv351F1"
      },
      "execution_count": 11,
      "outputs": []
    },
    {
      "cell_type": "markdown",
      "source": [
        "## Prepare Data"
      ],
      "metadata": {
        "id": "OFp2k-qB51d3"
      }
    },
    {
      "cell_type": "code",
      "source": [
        "class CustomLabelDataset(Dataset):\n",
        "    def __init__(self, df_all):\n",
        "        self.text = list(map(self.tokenize_func, df_all[\"text\"]))\n",
        "        self.soft_labels = df_all[\"soft_list\"] \n",
        "        self.hard_labels = df_all[\"hard_label\"]\n",
        "        self.hard_labels_1h = Fun.one_hot(torch.tensor(df_all['hard_label'].values))\n",
        "\n",
        "    def __len__(self):\n",
        "        return len(self.text)\n",
        "      \n",
        "    def tokenize_func(self, text):\n",
        "        return tokenizer(text, padding=\"max_length\", truncation=True, max_length=240)\n",
        "\n",
        "    def __getitem__(self, idx):\n",
        "        input = {\"attention_mask\": torch.tensor(self.text[idx][\"attention_mask\"]),\n",
        "                 \"token_type_ids\": torch.tensor(self.text[idx][\"token_type_ids\"]),\n",
        "                 \"input_ids\": torch.tensor(self.text[idx][\"input_ids\"])}\n",
        "        return input, self.hard_labels_1h[idx], torch.tensor(self.soft_labels[idx]), torch.tensor(self.hard_labels[idx])"
      ],
      "metadata": {
        "id": "vXgqxFmH5aY-"
      },
      "execution_count": 12,
      "outputs": []
    },
    {
      "cell_type": "code",
      "source": [
        "# Init dataset\n",
        "dataset = CustomLabelDataset(df_all)\n",
        "batch_size = 8\n",
        "\n",
        "train_size = int(len(dataset) * 0.8)\n",
        "test_size = len(dataset) - train_size\n",
        "train_dataset, eval_dataset = random_split(dataset, [train_size, test_size])\n",
        "\n",
        "train_dataloader = DataLoader(\n",
        "    train_dataset,\n",
        "    batch_size=batch_size,\n",
        "    shuffle=True)\n",
        "\n",
        "eval_dataloader = DataLoader(\n",
        "    eval_dataset,\n",
        "    batch_size=batch_size)"
      ],
      "metadata": {
        "id": "Asl4kclO2egC"
      },
      "execution_count": 60,
      "outputs": []
    },
    {
      "cell_type": "code",
      "source": [],
      "metadata": {
        "id": "7rQ8gtQcbBXk"
      },
      "execution_count": 61,
      "outputs": []
    },
    {
      "cell_type": "markdown",
      "source": [
        "## Optimization"
      ],
      "metadata": {
        "id": "NwEKXBtI59g7"
      }
    },
    {
      "cell_type": "code",
      "source": [
        "# Optimizer\n",
        "num_epochs = 4\n",
        "\n",
        "num_training_steps = num_epochs * len(train_dataloader)\n",
        "optimizer = AdamW(mtl_model.parameters())\n",
        "lr_scheduler = get_scheduler(\n",
        "    name=\"linear\", optimizer=optimizer, num_warmup_steps=0, num_training_steps=num_training_steps\n",
        ")"
      ],
      "metadata": {
        "id": "V0XVIRyn2ei-"
      },
      "execution_count": 14,
      "outputs": []
    },
    {
      "cell_type": "code",
      "source": [
        "# Loss\n",
        "loss_hard = nn.CrossEntropyLoss()\n",
        "loss_soft = nn.CrossEntropyLoss()"
      ],
      "metadata": {
        "id": "44oJzJhg2elN"
      },
      "execution_count": 15,
      "outputs": []
    },
    {
      "cell_type": "code",
      "source": [],
      "metadata": {
        "id": "Rle8evu86Miy"
      },
      "execution_count": 15,
      "outputs": []
    },
    {
      "cell_type": "markdown",
      "source": [
        "## Training"
      ],
      "metadata": {
        "id": "ZHvCCIut6Ms8"
      }
    },
    {
      "cell_type": "code",
      "source": [
        "run = wandb.init(\n",
        "    project=\"mtl-1l\",\n",
        "    config={\n",
        "        \"epochs\": num_epochs,\n",
        "        \"batch_size\": batch_size,\n",
        "        \"device\": device\n",
        "        },\n",
        "      save_code = True,\n",
        "      tags = [\"bert_arabic_english\", \"mtl\", \"2_heads\"],\n",
        "      )\n",
        "wandb.watch(mtl_model, log_freq=100)"
      ],
      "metadata": {
        "id": "K6OcK6ZkRAbC",
        "colab": {
          "base_uri": "https://localhost:8080/",
          "height": 104
        },
        "outputId": "a554bf89-f6de-4626-e522-6cd8c4324dbe"
      },
      "execution_count": 16,
      "outputs": [
        {
          "output_type": "stream",
          "name": "stderr",
          "text": [
            "\u001b[34m\u001b[1mwandb\u001b[0m: Currently logged in as: \u001b[33msheuschk\u001b[0m. Use \u001b[1m`wandb login --relogin`\u001b[0m to force relogin\n"
          ]
        },
        {
          "output_type": "display_data",
          "data": {
            "text/plain": [
              "<IPython.core.display.HTML object>"
            ],
            "text/html": [
              "Tracking run with wandb version 0.13.7"
            ]
          },
          "metadata": {}
        },
        {
          "output_type": "display_data",
          "data": {
            "text/plain": [
              "<IPython.core.display.HTML object>"
            ],
            "text/html": [
              "Run data is saved locally in <code>/content/wandb/run-20221219_120940-39sugcu9</code>"
            ]
          },
          "metadata": {}
        },
        {
          "output_type": "display_data",
          "data": {
            "text/plain": [
              "<IPython.core.display.HTML object>"
            ],
            "text/html": [
              "Syncing run <strong><a href=\"https://wandb.ai/sheuschk/mtl-1l/runs/39sugcu9\" target=\"_blank\">lunar-energy-7</a></strong> to <a href=\"https://wandb.ai/sheuschk/mtl-1l\" target=\"_blank\">Weights & Biases</a> (<a href=\"https://wandb.me/run\" target=\"_blank\">docs</a>)<br/>"
            ]
          },
          "metadata": {}
        },
        {
          "output_type": "execute_result",
          "data": {
            "text/plain": [
              "[]"
            ]
          },
          "metadata": {},
          "execution_count": 16
        }
      ]
    },
    {
      "cell_type": "code",
      "source": [
        "# Train\n",
        "# num_epochs = wandb.config.epochs\n",
        "\n",
        "for e in range(num_epochs):\n",
        "\n",
        "  loss_batches = 0\n",
        "  epoch_loss = 0\n",
        "  epoch_len = len(train_dataloader)\n",
        "\n",
        "  for i, batch in enumerate(train_dataloader):\n",
        "\n",
        "    input_ids, attention_mask, token_type_ids = batch[0][\"input_ids\"].to(device), batch[0][\"attention_mask\"].to(device), batch[0][\"token_type_ids\"].to(device)\n",
        "    hard_labels, soft_labels = batch[1].to(device), batch[2].to(device)\n",
        "\n",
        "    pred_hl, pred_sl = mtl_model(input_ids=input_ids, attention_mask=attention_mask, token_type_ids=token_type_ids)\n",
        "\n",
        "    loss_hl = loss_hard(pred_hl, hard_labels.to(float))\n",
        "    loss_sl = loss_soft(pred_sl, soft_labels)\n",
        "\n",
        "    loss = loss_sl + loss_hl\n",
        "\n",
        "    optimizer.zero_grad()\n",
        "    loss.backward()\n",
        "    optimizer.step()\n",
        "    lr_scheduler.step()\n",
        "\n",
        "    loss_batches += loss.item()\n",
        "    epoch_loss += loss.item()\n",
        "    wandb.log({\"train/loss\": loss.item()})\n",
        "\n",
        "    log_n_batches = 50\n",
        "    if i % log_n_batches == 0:\n",
        "      if i == 0:\n",
        "        log_n_batches = 1\n",
        "      print(f\"{e+1}: Last {log_n_batches} batches avg loss: {loss_batches/log_n_batches:>7f}  [{i}/{epoch_len}]\")\n",
        "      wandb.log({\"train/loss_over_batches\": loss_batches/log_n_batches})\n",
        "      wandb.log({\"train/epochs\": e})\n",
        "      loss_batches = 0\n",
        "  \n",
        "  epoch_loss /= i\n",
        "  print(f\"Epoch loss: {epoch_loss:>7f}  [{e+1}/{num_epochs}]\")\n",
        "  wandb.log({\"train/epoch_loss\": epoch_loss})\n",
        "  wandb.log({\"train/epoch\": e})\n",
        "\n"
      ],
      "metadata": {
        "colab": {
          "base_uri": "https://localhost:8080/"
        },
        "id": "msKUOWi24GoQ",
        "outputId": "b0495bfc-d3d4-4697-e12c-7d419a1ea9a9"
      },
      "execution_count": 21,
      "outputs": [
        {
          "output_type": "stream",
          "name": "stdout",
          "text": [
            "Last 1 batches avg loss: 6.565152  [0/1043.0]\n",
            "Last 50 batches avg loss: 1.363249  [50/1043.0]\n",
            "Last 50 batches avg loss: 1.248226  [100/1043.0]\n",
            "Last 50 batches avg loss: 1.182887  [150/1043.0]\n",
            "Last 50 batches avg loss: 1.154746  [200/1043.0]\n",
            "Last 50 batches avg loss: 1.303767  [250/1043.0]\n",
            "Last 50 batches avg loss: 1.239921  [300/1043.0]\n",
            "Last 50 batches avg loss: 1.296868  [350/1043.0]\n",
            "Last 50 batches avg loss: 1.189413  [400/1043.0]\n",
            "Last 50 batches avg loss: 1.200521  [450/1043.0]\n",
            "Last 50 batches avg loss: 1.197504  [500/1043.0]\n",
            "Last 50 batches avg loss: 1.263680  [550/1043.0]\n",
            "Last 50 batches avg loss: 1.264297  [600/1043.0]\n",
            "Last 50 batches avg loss: 1.180400  [650/1043.0]\n",
            "Last 50 batches avg loss: 1.209289  [700/1043.0]\n",
            "Last 50 batches avg loss: 1.273286  [750/1043.0]\n",
            "Last 50 batches avg loss: 1.175780  [800/1043.0]\n",
            "Last 50 batches avg loss: 1.231676  [850/1043.0]\n",
            "Last 50 batches avg loss: 1.174319  [900/1043.0]\n",
            "Last 50 batches avg loss: 1.245590  [950/1043.0]\n",
            "Last 50 batches avg loss: 1.186032  [1000/1043.0]\n",
            "Last 50 batches avg loss: 1.185699  [1050/1043.0]\n",
            "Last 50 batches avg loss: 1.304022  [1100/1043.0]\n",
            "Last 50 batches avg loss: 1.181928  [1150/1043.0]\n",
            "Last 50 batches avg loss: 1.156154  [1200/1043.0]\n",
            "Last 50 batches avg loss: 1.217809  [1250/1043.0]\n",
            "Last 50 batches avg loss: 1.159504  [1300/1043.0]\n",
            "Epoch loss: 1.227233  [0/4]\n",
            "Last 1 batches avg loss: 1.180972  [0/1043.0]\n",
            "Last 50 batches avg loss: 1.281852  [50/1043.0]\n",
            "Last 50 batches avg loss: 1.224044  [100/1043.0]\n",
            "Last 50 batches avg loss: 1.212762  [150/1043.0]\n",
            "Last 50 batches avg loss: 1.268526  [200/1043.0]\n",
            "Last 50 batches avg loss: 1.218990  [250/1043.0]\n",
            "Last 50 batches avg loss: 1.154558  [300/1043.0]\n",
            "Last 50 batches avg loss: 1.161612  [350/1043.0]\n",
            "Last 50 batches avg loss: 1.174453  [400/1043.0]\n",
            "Last 50 batches avg loss: 1.236334  [450/1043.0]\n",
            "Last 50 batches avg loss: 1.176357  [500/1043.0]\n",
            "Last 50 batches avg loss: 1.237601  [550/1043.0]\n",
            "Last 50 batches avg loss: 1.202650  [600/1043.0]\n",
            "Last 50 batches avg loss: 1.219108  [650/1043.0]\n",
            "Last 50 batches avg loss: 1.208085  [700/1043.0]\n",
            "Last 50 batches avg loss: 1.228127  [750/1043.0]\n",
            "Last 50 batches avg loss: 1.120517  [800/1043.0]\n",
            "Last 50 batches avg loss: 1.215239  [850/1043.0]\n",
            "Last 50 batches avg loss: 1.198411  [900/1043.0]\n",
            "Last 50 batches avg loss: 1.221977  [950/1043.0]\n",
            "Last 50 batches avg loss: 1.171828  [1000/1043.0]\n",
            "Last 50 batches avg loss: 1.176820  [1050/1043.0]\n",
            "Last 50 batches avg loss: 1.144607  [1100/1043.0]\n",
            "Last 50 batches avg loss: 1.110734  [1150/1043.0]\n",
            "Last 50 batches avg loss: 1.124228  [1200/1043.0]\n",
            "Last 50 batches avg loss: 1.223060  [1250/1043.0]\n",
            "Last 50 batches avg loss: 1.158787  [1300/1043.0]\n",
            "Epoch loss: 1.196292  [1/4]\n",
            "Last 1 batches avg loss: 1.430948  [0/1043.0]\n",
            "Last 50 batches avg loss: 1.150705  [50/1043.0]\n",
            "Last 50 batches avg loss: 1.154531  [100/1043.0]\n",
            "Last 50 batches avg loss: 1.162458  [150/1043.0]\n",
            "Last 50 batches avg loss: 1.144969  [200/1043.0]\n",
            "Last 50 batches avg loss: 1.202591  [250/1043.0]\n",
            "Last 50 batches avg loss: 1.172000  [300/1043.0]\n",
            "Last 50 batches avg loss: 1.155127  [350/1043.0]\n",
            "Last 50 batches avg loss: 1.227533  [400/1043.0]\n",
            "Last 50 batches avg loss: 1.149994  [450/1043.0]\n",
            "Last 50 batches avg loss: 1.207139  [500/1043.0]\n",
            "Last 50 batches avg loss: 1.168529  [550/1043.0]\n",
            "Last 50 batches avg loss: 1.166183  [600/1043.0]\n",
            "Last 50 batches avg loss: 1.198184  [650/1043.0]\n",
            "Last 50 batches avg loss: 1.154015  [700/1043.0]\n",
            "Last 50 batches avg loss: 1.176530  [750/1043.0]\n",
            "Last 50 batches avg loss: 1.178033  [800/1043.0]\n",
            "Last 50 batches avg loss: 1.118812  [850/1043.0]\n",
            "Last 50 batches avg loss: 1.190489  [900/1043.0]\n",
            "Last 50 batches avg loss: 1.111142  [950/1043.0]\n",
            "Last 50 batches avg loss: 1.210719  [1000/1043.0]\n",
            "Last 50 batches avg loss: 1.185140  [1050/1043.0]\n",
            "Last 50 batches avg loss: 1.232978  [1100/1043.0]\n",
            "Last 50 batches avg loss: 1.185054  [1150/1043.0]\n",
            "Last 50 batches avg loss: 1.168564  [1200/1043.0]\n",
            "Last 50 batches avg loss: 1.221092  [1250/1043.0]\n",
            "Last 50 batches avg loss: 1.193952  [1300/1043.0]\n",
            "Epoch loss: 1.177205  [2/4]\n",
            "Last 1 batches avg loss: 1.361370  [0/1043.0]\n",
            "Last 50 batches avg loss: 1.103447  [50/1043.0]\n",
            "Last 50 batches avg loss: 1.223817  [100/1043.0]\n",
            "Last 50 batches avg loss: 1.170680  [150/1043.0]\n",
            "Last 50 batches avg loss: 1.102935  [200/1043.0]\n",
            "Last 50 batches avg loss: 1.155328  [250/1043.0]\n",
            "Last 50 batches avg loss: 1.192232  [300/1043.0]\n",
            "Last 50 batches avg loss: 1.214621  [350/1043.0]\n",
            "Last 50 batches avg loss: 1.205232  [400/1043.0]\n",
            "Last 50 batches avg loss: 1.209691  [450/1043.0]\n",
            "Last 50 batches avg loss: 1.111300  [500/1043.0]\n",
            "Last 50 batches avg loss: 1.225875  [550/1043.0]\n",
            "Last 50 batches avg loss: 1.166972  [600/1043.0]\n",
            "Last 50 batches avg loss: 1.050703  [650/1043.0]\n",
            "Last 50 batches avg loss: 1.103103  [700/1043.0]\n",
            "Last 50 batches avg loss: 1.157964  [750/1043.0]\n",
            "Last 50 batches avg loss: 1.168652  [800/1043.0]\n",
            "Last 50 batches avg loss: 1.175486  [850/1043.0]\n",
            "Last 50 batches avg loss: 1.199422  [900/1043.0]\n",
            "Last 50 batches avg loss: 1.220671  [950/1043.0]\n",
            "Last 50 batches avg loss: 1.203165  [1000/1043.0]\n",
            "Last 50 batches avg loss: 1.181428  [1050/1043.0]\n",
            "Last 50 batches avg loss: 1.135561  [1100/1043.0]\n",
            "Last 50 batches avg loss: 1.172793  [1150/1043.0]\n",
            "Last 50 batches avg loss: 1.154452  [1200/1043.0]\n",
            "Last 50 batches avg loss: 1.146814  [1250/1043.0]\n",
            "Last 50 batches avg loss: 1.153651  [1300/1043.0]\n",
            "Epoch loss: 1.166477  [3/4]\n"
          ]
        }
      ]
    },
    {
      "cell_type": "code",
      "source": [
        "# Notes to improve (superficial):\n",
        "# - counter for batches"
      ],
      "metadata": {
        "id": "jkZSufpj6PA5"
      },
      "execution_count": null,
      "outputs": []
    },
    {
      "cell_type": "markdown",
      "source": [
        "Model dependent iprovements:\n",
        "- Choose different loss?\n",
        "  - CE should be good for 1hot and soft labels, as they represent distributions. But maybe KL Error, as in paper\n",
        "\n",
        "- Is 1hot encoded hard labels really a benefit\n",
        "  - As the tasks are seperate, maybe just keep it 0 and 1 and learn more regression style task\n",
        "\n",
        "- Number of epochs?\n",
        "  - @Dennis: For output layer it overfits after one epoch\n",
        "  - But train the whole model, its harder to find sweet spot\n",
        "  - * [ ] Add evaluation on onseen data at the end of epoch, to check generalization error while training\n",
        "\n",
        "- "
      ],
      "metadata": {
        "id": "lZ5Ws3sQXfaO"
      }
    },
    {
      "cell_type": "markdown",
      "source": [
        "## Evaluation"
      ],
      "metadata": {
        "id": "QB3Oa4j36PJ4"
      }
    },
    {
      "cell_type": "code",
      "source": [
        "# from torcheval.metrics.functional import binary_f1_score\n",
        "from sklearn.metrics import f1_score"
      ],
      "metadata": {
        "id": "PRZ3ajcR-3Xu"
      },
      "execution_count": 22,
      "outputs": []
    },
    {
      "cell_type": "code",
      "source": [],
      "metadata": {
        "id": "XURBSKveH25y"
      },
      "execution_count": null,
      "outputs": []
    },
    {
      "cell_type": "code",
      "source": [
        "# Eval\n",
        "def cross_entropy(targets_soft, predictions_soft, epsilon = 1e-12):\n",
        "  predictions = torch.clip(predictions_soft, epsilon, 1. - epsilon)\n",
        "  ce = -torch.sum(targets_soft * torch.log(predictions + 1e-9)) # / predictions.shape[0]\n",
        "  return ce\n",
        "\n",
        "\n",
        "cross_error = 0\n",
        "f1 = 0\n",
        "\n",
        "for i, batch in enumerate(eval_dataloader):\n",
        "  input_ids, attention_mask, token_type_ids = batch[0][\"input_ids\"].to(device), batch[0][\"attention_mask\"].to(device), batch[0][\"token_type_ids\"].to(device)\n",
        "  _, soft_labels, hard_labels = batch[1].to(device), batch[2].to(device), batch[3].to(device)\n",
        "\n",
        "  with torch.no_grad():\n",
        "    pred_hl, pred_sl = mtl_model(input_ids=input_ids, attention_mask=attention_mask, token_type_ids=token_type_ids)\n",
        "  pred_sl = torch.softmax(pred_sl, axis=-1)\n",
        "  cross_error += cross_entropy(soft_labels, pred_sl)\n",
        "  f1 += f1_score(hard_labels.cpu(), pred_hl.argmax(1).cpu(), average='micro')\n",
        "\n",
        "f1 /= i  # as not all batches are same size, this is not correct\n",
        "cross_error /= test_size\n",
        "\n",
        "print(f\"F1 error: {f1}\")\n",
        "print(f\"CE error: {cross_error}\")\n",
        "wandb.log({\"eval/ce\": cross_error})\n",
        "wandb.log({\"eval/f1\": f1})\n",
        "\n"
      ],
      "metadata": {
        "colab": {
          "base_uri": "https://localhost:8080/",
          "height": 392
        },
        "id": "aBmXCved4Gr0",
        "outputId": "877c44be-fc34-4337-8675-ae516bef9fb9"
      },
      "execution_count": 50,
      "outputs": [
        {
          "output_type": "stream",
          "name": "stdout",
          "text": [
            "F1 error: 0.7424213353798925\n",
            "CE error: 2.961099147796631\n"
          ]
        },
        {
          "output_type": "error",
          "ename": "Error",
          "evalue": "ignored",
          "traceback": [
            "\u001b[0;31m---------------------------------------------------------------------------\u001b[0m",
            "\u001b[0;31mError\u001b[0m                                     Traceback (most recent call last)",
            "\u001b[0;32m<ipython-input-50-d6f953f76a5e>\u001b[0m in \u001b[0;36m<module>\u001b[0;34m\u001b[0m\n\u001b[1;32m     24\u001b[0m \u001b[0mprint\u001b[0m\u001b[0;34m(\u001b[0m\u001b[0;34mf\"F1 error: {f1}\"\u001b[0m\u001b[0;34m)\u001b[0m\u001b[0;34m\u001b[0m\u001b[0;34m\u001b[0m\u001b[0m\n\u001b[1;32m     25\u001b[0m \u001b[0mprint\u001b[0m\u001b[0;34m(\u001b[0m\u001b[0;34mf\"CE error: {cross_error}\"\u001b[0m\u001b[0;34m)\u001b[0m\u001b[0;34m\u001b[0m\u001b[0;34m\u001b[0m\u001b[0m\n\u001b[0;32m---> 26\u001b[0;31m \u001b[0mwandb\u001b[0m\u001b[0;34m.\u001b[0m\u001b[0mlog\u001b[0m\u001b[0;34m(\u001b[0m\u001b[0;34m{\u001b[0m\u001b[0;34m\"eval/ce\"\u001b[0m\u001b[0;34m:\u001b[0m \u001b[0mcross_error\u001b[0m\u001b[0;34m}\u001b[0m\u001b[0;34m)\u001b[0m\u001b[0;34m\u001b[0m\u001b[0;34m\u001b[0m\u001b[0m\n\u001b[0m\u001b[1;32m     27\u001b[0m \u001b[0mwandb\u001b[0m\u001b[0;34m.\u001b[0m\u001b[0mlog\u001b[0m\u001b[0;34m(\u001b[0m\u001b[0;34m{\u001b[0m\u001b[0;34m\"eval/f1\"\u001b[0m\u001b[0;34m:\u001b[0m \u001b[0mf1\u001b[0m\u001b[0;34m}\u001b[0m\u001b[0;34m)\u001b[0m\u001b[0;34m\u001b[0m\u001b[0;34m\u001b[0m\u001b[0m\n\u001b[1;32m     28\u001b[0m \u001b[0;34m\u001b[0m\u001b[0m\n",
            "\u001b[0;32m/usr/local/lib/python3.8/dist-packages/wandb/sdk/lib/preinit.py\u001b[0m in \u001b[0;36mpreinit_wrapper\u001b[0;34m(*args, **kwargs)\u001b[0m\n\u001b[1;32m     34\u001b[0m ) -> Callable:\n\u001b[1;32m     35\u001b[0m     \u001b[0;32mdef\u001b[0m \u001b[0mpreinit_wrapper\u001b[0m\u001b[0;34m(\u001b[0m\u001b[0;34m*\u001b[0m\u001b[0margs\u001b[0m\u001b[0;34m:\u001b[0m \u001b[0mAny\u001b[0m\u001b[0;34m,\u001b[0m \u001b[0;34m**\u001b[0m\u001b[0mkwargs\u001b[0m\u001b[0;34m:\u001b[0m \u001b[0mAny\u001b[0m\u001b[0;34m)\u001b[0m \u001b[0;34m->\u001b[0m \u001b[0mAny\u001b[0m\u001b[0;34m:\u001b[0m\u001b[0;34m\u001b[0m\u001b[0;34m\u001b[0m\u001b[0m\n\u001b[0;32m---> 36\u001b[0;31m         \u001b[0;32mraise\u001b[0m \u001b[0mwandb\u001b[0m\u001b[0;34m.\u001b[0m\u001b[0mError\u001b[0m\u001b[0;34m(\u001b[0m\u001b[0;34mf\"You must call wandb.init() before {name}()\"\u001b[0m\u001b[0;34m)\u001b[0m\u001b[0;34m\u001b[0m\u001b[0;34m\u001b[0m\u001b[0m\n\u001b[0m\u001b[1;32m     37\u001b[0m \u001b[0;34m\u001b[0m\u001b[0m\n\u001b[1;32m     38\u001b[0m     \u001b[0mpreinit_wrapper\u001b[0m\u001b[0;34m.\u001b[0m\u001b[0m__name__\u001b[0m \u001b[0;34m=\u001b[0m \u001b[0mstr\u001b[0m\u001b[0;34m(\u001b[0m\u001b[0mname\u001b[0m\u001b[0;34m)\u001b[0m\u001b[0;34m\u001b[0m\u001b[0;34m\u001b[0m\u001b[0m\n",
            "\u001b[0;31mError\u001b[0m: You must call wandb.init() before wandb.log()"
          ]
        }
      ]
    },
    {
      "cell_type": "code",
      "source": [],
      "metadata": {
        "id": "wWscob3B-1iw"
      },
      "execution_count": 27,
      "outputs": []
    },
    {
      "cell_type": "code",
      "source": [],
      "metadata": {
        "id": "aPV1atdD43sn"
      },
      "execution_count": 49,
      "outputs": []
    },
    {
      "cell_type": "code",
      "source": [
        "from tqdm.notebook import tqdm\n",
        "total = 0\n",
        "ce = 0\n",
        "epsilon = 1e-12\n",
        "\n",
        "for i, batch in enumerate(tqdm(eval_dataloader, 0)):\n",
        "  input_ids, attention_mask, token_type_ids = batch[0][\"input_ids\"].to(device), batch[0][\"attention_mask\"].to(device), batch[0][\"token_type_ids\"].to(device)\n",
        "  _, soft_labels, hard_labels = batch[1].to(device), batch[2].to(device), batch[3].to(device)\n",
        "\n",
        "  with torch.no_grad():\n",
        "    pred_hl, pred_sl = mtl_model(input_ids=input_ids, attention_mask=attention_mask, token_type_ids=token_type_ids)\n",
        "  probabilities = torch.softmax(pred_sl, axis=-1)\n",
        "  predictions = torch.clip(probabilities, epsilon, 1. - epsilon)                                      \n",
        "  N = predictions.shape[0]\n",
        "  total+= N #maybe should be 1 here as well\n",
        "  ce += -torch.sum(soft_labels * torch.log(predictions + 1e-9))\n",
        "\n",
        "ce = ce/total"
      ],
      "metadata": {
        "colab": {
          "base_uri": "https://localhost:8080/",
          "height": 101,
          "referenced_widgets": [
            "9cea15bcd2a749dca194b47c52fd9746",
            "ef904551a15647e78d370409a6942ee9",
            "b8b0b88b30ae4403bc226c7df0afa0b5",
            "0356e8188f394e6caeefd1ce304ddbc3",
            "1b12a1d7d03d49e1abcfbd2b2df8581f",
            "4da1c9fdf33948e5b1889ace7cd496b4",
            "9194159feccf4ddc99c684b9f79041ff",
            "0e4f1a2f84d74fc3b37d512edabc20e9",
            "42e5d4cbf9fe4597ac4b47756f0718c3",
            "dd4092d32a3e42ea95149cde73dafc49",
            "3a02e21c0e4c4764826907b0b33327c5"
          ]
        },
        "id": "suoX3FT2jBBe",
        "outputId": "f60f1865-9aff-4be5-f75c-7c2c7b1cb2a3"
      },
      "execution_count": 39,
      "outputs": [
        {
          "output_type": "stream",
          "name": "stderr",
          "text": [
            "<ipython-input-39-e8858648b0f9>:5: TqdmDeprecationWarning: This function will be removed in tqdm==5.0.0\n",
            "Please use `tqdm.notebook.tqdm` instead of `tqdm.tqdm_notebook`\n",
            "  for i, batch in enumerate(tqdm_notebook(eval_dataloader, 0)):\n"
          ]
        },
        {
          "output_type": "display_data",
          "data": {
            "text/plain": [
              "  0%|          | 0/1304 [00:00<?, ?it/s]"
            ],
            "application/vnd.jupyter.widget-view+json": {
              "version_major": 2,
              "version_minor": 0,
              "model_id": "9cea15bcd2a749dca194b47c52fd9746"
            }
          },
          "metadata": {}
        }
      ]
    },
    {
      "cell_type": "code",
      "source": [
        "ce"
      ],
      "metadata": {
        "colab": {
          "base_uri": "https://localhost:8080/"
        },
        "id": "M92VuoY1jBEp",
        "outputId": "31338447-5166-4aa2-ab47-f24f92d14051"
      },
      "execution_count": 40,
      "outputs": [
        {
          "output_type": "execute_result",
          "data": {
            "text/plain": [
              "tensor(0.5924, device='cuda:0')"
            ]
          },
          "metadata": {},
          "execution_count": 40
        }
      ]
    },
    {
      "cell_type": "code",
      "source": [
        "torch.softmax(pred_sl, axis=-1)"
      ],
      "metadata": {
        "colab": {
          "base_uri": "https://localhost:8080/"
        },
        "id": "65C1OIaBnKou",
        "outputId": "e23e1607-1bd7-4715-efbf-ec6c80799f9e"
      },
      "execution_count": 48,
      "outputs": [
        {
          "output_type": "execute_result",
          "data": {
            "text/plain": [
              "tensor([[0.7255, 0.2745],\n",
              "        [0.7255, 0.2745],\n",
              "        [0.7255, 0.2745],\n",
              "        [0.7255, 0.2745],\n",
              "        [0.7255, 0.2745],\n",
              "        [0.7255, 0.2745],\n",
              "        [0.7255, 0.2745]], device='cuda:0')"
            ]
          },
          "metadata": {},
          "execution_count": 48
        }
      ]
    },
    {
      "cell_type": "code",
      "source": [],
      "metadata": {
        "id": "P-gIN0WunbZz"
      },
      "execution_count": null,
      "outputs": []
    },
    {
      "cell_type": "code",
      "source": [],
      "metadata": {
        "id": "EoSRbdYInbdW"
      },
      "execution_count": null,
      "outputs": []
    },
    {
      "cell_type": "markdown",
      "source": [
        "### Finish"
      ],
      "metadata": {
        "id": "eydOBaKsiz5O"
      }
    },
    {
      "cell_type": "code",
      "source": [
        "# Save parameters\n",
        "# artifact = wandb.Artifact(name='model_param', type='model')\n",
        "# artifact.add_dir(local_path=\"classifier.pt\")\n",
        "# artifact.add_dir(local_path=\"bias.pt\")\n",
        "# artifact.add_file(local_path=\"model.pt\")\n",
        "\n",
        "# run.log_artifact(artifact)"
      ],
      "metadata": {
        "id": "9Jzr7vwjlORt"
      },
      "execution_count": null,
      "outputs": []
    },
    {
      "cell_type": "code",
      "source": [
        "torch.save(mtl_model.parameters, 'model.pt')\n",
        "artifact = wandb.Artifact(name='model_param', type='model')\n",
        "artifact.add_file(local_path=\"model.pt\")\n",
        "run.log_artifact(artifact)"
      ],
      "metadata": {
        "id": "Yek9Cza6lOUe"
      },
      "execution_count": null,
      "outputs": []
    },
    {
      "cell_type": "code",
      "source": [
        "wandb.finish()"
      ],
      "metadata": {
        "id": "U36WeQhk43v0",
        "colab": {
          "base_uri": "https://localhost:8080/",
          "height": 299
        },
        "outputId": "662b9479-2a69-4731-d9e6-d6d56a3cbb08"
      },
      "execution_count": 27,
      "outputs": [
        {
          "output_type": "display_data",
          "data": {
            "text/plain": [
              "<IPython.core.display.HTML object>"
            ],
            "text/html": [
              "Waiting for W&B process to finish... <strong style=\"color:green\">(success).</strong>"
            ]
          },
          "metadata": {}
        },
        {
          "output_type": "display_data",
          "data": {
            "text/plain": [
              "<IPython.core.display.HTML object>"
            ],
            "text/html": [
              "<style>\n",
              "    table.wandb td:nth-child(1) { padding: 0 10px; text-align: left ; width: auto;} td:nth-child(2) {text-align: left ; width: 100%}\n",
              "    .wandb-row { display: flex; flex-direction: row; flex-wrap: wrap; justify-content: flex-start; width: 100% }\n",
              "    .wandb-col { display: flex; flex-direction: column; flex-basis: 100%; flex: 1; padding: 10px; }\n",
              "    </style>\n",
              "<div class=\"wandb-row\"><div class=\"wandb-col\"><h3>Run history:</h3><br/><table class=\"wandb\"><tr><td>eval/ce</td><td>▁</td></tr><tr><td>eval/f1</td><td>▁</td></tr><tr><td>train/epoch</td><td>▁▃▆█</td></tr><tr><td>train/epoch_loss</td><td>█▄▂▁</td></tr><tr><td>train/epochs</td><td>▁▁▁▁▁▁▁▁▁▁▃▃▃▃▃▃▃▃▃▃▆▆▆▆▆▆▆▆▆▆██████████</td></tr><tr><td>train/loss</td><td>▅▃▇▅▅▅▄█▆▅▆▇▂▅▆▃▄▄▄▁▄▆▅▅▇▃▅▆▅▆█▄▄▄▄▂▆▄▄▂</td></tr><tr><td>train/loss_over_batches</td><td>█▁▁▁▁▁▁▁▁▁▁▁▁▁▁▁▁▁▁▁▁▁▁▁▁▁▁▁▁▁▁▁▁▁▁▁▁▁▁▁</td></tr></table><br/></div><div class=\"wandb-col\"><h3>Run summary:</h3><br/><table class=\"wandb\"><tr><td>eval/ce</td><td>31.14395</td></tr><tr><td>eval/f1</td><td>0.74242</td></tr><tr><td>train/epoch</td><td>3</td></tr><tr><td>train/epoch_loss</td><td>1.16648</td></tr><tr><td>train/epochs</td><td>3</td></tr><tr><td>train/loss</td><td>1.42576</td></tr><tr><td>train/loss_over_batches</td><td>1.15365</td></tr></table><br/></div></div>"
            ]
          },
          "metadata": {}
        },
        {
          "output_type": "display_data",
          "data": {
            "text/plain": [
              "<IPython.core.display.HTML object>"
            ],
            "text/html": [
              "Synced <strong style=\"color:#cdcd00\">lunar-energy-7</strong>: <a href=\"https://wandb.ai/sheuschk/mtl-1l/runs/39sugcu9\" target=\"_blank\">https://wandb.ai/sheuschk/mtl-1l/runs/39sugcu9</a><br/>Synced 5 W&B file(s), 0 media file(s), 13 artifact file(s) and 1 other file(s)"
            ]
          },
          "metadata": {}
        },
        {
          "output_type": "display_data",
          "data": {
            "text/plain": [
              "<IPython.core.display.HTML object>"
            ],
            "text/html": [
              "Find logs at: <code>./wandb/run-20221219_120940-39sugcu9/logs</code>"
            ]
          },
          "metadata": {}
        }
      ]
    },
    {
      "cell_type": "code",
      "source": [],
      "metadata": {
        "id": "3vOTDCRf43yy"
      },
      "execution_count": null,
      "outputs": []
    }
  ]
}