{
  "nbformat": 4,
  "nbformat_minor": 0,
  "metadata": {
    "colab": {
      "provenance": []
    },
    "kernelspec": {
      "name": "python3",
      "display_name": "Python 3"
    },
    "language_info": {
      "name": "python"
    },
    "accelerator": "GPU",
    "gpuClass": "standard",
    "widgets": {
      "application/vnd.jupyter.widget-state+json": {
        "c24136810f9f4b168910a0f66e843ae1": {
          "model_module": "@jupyter-widgets/controls",
          "model_name": "HBoxModel",
          "model_module_version": "1.5.0",
          "state": {
            "_dom_classes": [],
            "_model_module": "@jupyter-widgets/controls",
            "_model_module_version": "1.5.0",
            "_model_name": "HBoxModel",
            "_view_count": null,
            "_view_module": "@jupyter-widgets/controls",
            "_view_module_version": "1.5.0",
            "_view_name": "HBoxView",
            "box_style": "",
            "children": [
              "IPY_MODEL_fc61a3df3a00442e8507f6bb3574670f",
              "IPY_MODEL_bef44e02c1874ec1b7e37a5ff52dd71d",
              "IPY_MODEL_b2be3a98d54d4ae6b5243e4be4bd4616"
            ],
            "layout": "IPY_MODEL_97ced680289a429db1ea71960634186f"
          }
        },
        "fc61a3df3a00442e8507f6bb3574670f": {
          "model_module": "@jupyter-widgets/controls",
          "model_name": "HTMLModel",
          "model_module_version": "1.5.0",
          "state": {
            "_dom_classes": [],
            "_model_module": "@jupyter-widgets/controls",
            "_model_module_version": "1.5.0",
            "_model_name": "HTMLModel",
            "_view_count": null,
            "_view_module": "@jupyter-widgets/controls",
            "_view_module_version": "1.5.0",
            "_view_name": "HTMLView",
            "description": "",
            "description_tooltip": null,
            "layout": "IPY_MODEL_c138a996a6f544b7a388f4c791377e98",
            "placeholder": "​",
            "style": "IPY_MODEL_f61a82c24a884d2bbb507670765a44f4",
            "value": "100%"
          }
        },
        "bef44e02c1874ec1b7e37a5ff52dd71d": {
          "model_module": "@jupyter-widgets/controls",
          "model_name": "FloatProgressModel",
          "model_module_version": "1.5.0",
          "state": {
            "_dom_classes": [],
            "_model_module": "@jupyter-widgets/controls",
            "_model_module_version": "1.5.0",
            "_model_name": "FloatProgressModel",
            "_view_count": null,
            "_view_module": "@jupyter-widgets/controls",
            "_view_module_version": "1.5.0",
            "_view_name": "ProgressView",
            "bar_style": "success",
            "description": "",
            "description_tooltip": null,
            "layout": "IPY_MODEL_82fc586217cd4cfe98a4427bf234edb0",
            "max": 784,
            "min": 0,
            "orientation": "horizontal",
            "style": "IPY_MODEL_11b08e32e94e4a45a3e90853da09ef62",
            "value": 784
          }
        },
        "b2be3a98d54d4ae6b5243e4be4bd4616": {
          "model_module": "@jupyter-widgets/controls",
          "model_name": "HTMLModel",
          "model_module_version": "1.5.0",
          "state": {
            "_dom_classes": [],
            "_model_module": "@jupyter-widgets/controls",
            "_model_module_version": "1.5.0",
            "_model_name": "HTMLModel",
            "_view_count": null,
            "_view_module": "@jupyter-widgets/controls",
            "_view_module_version": "1.5.0",
            "_view_name": "HTMLView",
            "description": "",
            "description_tooltip": null,
            "layout": "IPY_MODEL_26be4dc3be0c4266be7b355632329d30",
            "placeholder": "​",
            "style": "IPY_MODEL_ce12eb1c89564ffab955632294b95522",
            "value": " 784/784 [00:00&lt;00:00, 2495.26ex/s]"
          }
        },
        "97ced680289a429db1ea71960634186f": {
          "model_module": "@jupyter-widgets/base",
          "model_name": "LayoutModel",
          "model_module_version": "1.2.0",
          "state": {
            "_model_module": "@jupyter-widgets/base",
            "_model_module_version": "1.2.0",
            "_model_name": "LayoutModel",
            "_view_count": null,
            "_view_module": "@jupyter-widgets/base",
            "_view_module_version": "1.2.0",
            "_view_name": "LayoutView",
            "align_content": null,
            "align_items": null,
            "align_self": null,
            "border": null,
            "bottom": null,
            "display": null,
            "flex": null,
            "flex_flow": null,
            "grid_area": null,
            "grid_auto_columns": null,
            "grid_auto_flow": null,
            "grid_auto_rows": null,
            "grid_column": null,
            "grid_gap": null,
            "grid_row": null,
            "grid_template_areas": null,
            "grid_template_columns": null,
            "grid_template_rows": null,
            "height": null,
            "justify_content": null,
            "justify_items": null,
            "left": null,
            "margin": null,
            "max_height": null,
            "max_width": null,
            "min_height": null,
            "min_width": null,
            "object_fit": null,
            "object_position": null,
            "order": null,
            "overflow": null,
            "overflow_x": null,
            "overflow_y": null,
            "padding": null,
            "right": null,
            "top": null,
            "visibility": null,
            "width": null
          }
        },
        "c138a996a6f544b7a388f4c791377e98": {
          "model_module": "@jupyter-widgets/base",
          "model_name": "LayoutModel",
          "model_module_version": "1.2.0",
          "state": {
            "_model_module": "@jupyter-widgets/base",
            "_model_module_version": "1.2.0",
            "_model_name": "LayoutModel",
            "_view_count": null,
            "_view_module": "@jupyter-widgets/base",
            "_view_module_version": "1.2.0",
            "_view_name": "LayoutView",
            "align_content": null,
            "align_items": null,
            "align_self": null,
            "border": null,
            "bottom": null,
            "display": null,
            "flex": null,
            "flex_flow": null,
            "grid_area": null,
            "grid_auto_columns": null,
            "grid_auto_flow": null,
            "grid_auto_rows": null,
            "grid_column": null,
            "grid_gap": null,
            "grid_row": null,
            "grid_template_areas": null,
            "grid_template_columns": null,
            "grid_template_rows": null,
            "height": null,
            "justify_content": null,
            "justify_items": null,
            "left": null,
            "margin": null,
            "max_height": null,
            "max_width": null,
            "min_height": null,
            "min_width": null,
            "object_fit": null,
            "object_position": null,
            "order": null,
            "overflow": null,
            "overflow_x": null,
            "overflow_y": null,
            "padding": null,
            "right": null,
            "top": null,
            "visibility": null,
            "width": null
          }
        },
        "f61a82c24a884d2bbb507670765a44f4": {
          "model_module": "@jupyter-widgets/controls",
          "model_name": "DescriptionStyleModel",
          "model_module_version": "1.5.0",
          "state": {
            "_model_module": "@jupyter-widgets/controls",
            "_model_module_version": "1.5.0",
            "_model_name": "DescriptionStyleModel",
            "_view_count": null,
            "_view_module": "@jupyter-widgets/base",
            "_view_module_version": "1.2.0",
            "_view_name": "StyleView",
            "description_width": ""
          }
        },
        "82fc586217cd4cfe98a4427bf234edb0": {
          "model_module": "@jupyter-widgets/base",
          "model_name": "LayoutModel",
          "model_module_version": "1.2.0",
          "state": {
            "_model_module": "@jupyter-widgets/base",
            "_model_module_version": "1.2.0",
            "_model_name": "LayoutModel",
            "_view_count": null,
            "_view_module": "@jupyter-widgets/base",
            "_view_module_version": "1.2.0",
            "_view_name": "LayoutView",
            "align_content": null,
            "align_items": null,
            "align_self": null,
            "border": null,
            "bottom": null,
            "display": null,
            "flex": null,
            "flex_flow": null,
            "grid_area": null,
            "grid_auto_columns": null,
            "grid_auto_flow": null,
            "grid_auto_rows": null,
            "grid_column": null,
            "grid_gap": null,
            "grid_row": null,
            "grid_template_areas": null,
            "grid_template_columns": null,
            "grid_template_rows": null,
            "height": null,
            "justify_content": null,
            "justify_items": null,
            "left": null,
            "margin": null,
            "max_height": null,
            "max_width": null,
            "min_height": null,
            "min_width": null,
            "object_fit": null,
            "object_position": null,
            "order": null,
            "overflow": null,
            "overflow_x": null,
            "overflow_y": null,
            "padding": null,
            "right": null,
            "top": null,
            "visibility": null,
            "width": null
          }
        },
        "11b08e32e94e4a45a3e90853da09ef62": {
          "model_module": "@jupyter-widgets/controls",
          "model_name": "ProgressStyleModel",
          "model_module_version": "1.5.0",
          "state": {
            "_model_module": "@jupyter-widgets/controls",
            "_model_module_version": "1.5.0",
            "_model_name": "ProgressStyleModel",
            "_view_count": null,
            "_view_module": "@jupyter-widgets/base",
            "_view_module_version": "1.2.0",
            "_view_name": "StyleView",
            "bar_color": null,
            "description_width": ""
          }
        },
        "26be4dc3be0c4266be7b355632329d30": {
          "model_module": "@jupyter-widgets/base",
          "model_name": "LayoutModel",
          "model_module_version": "1.2.0",
          "state": {
            "_model_module": "@jupyter-widgets/base",
            "_model_module_version": "1.2.0",
            "_model_name": "LayoutModel",
            "_view_count": null,
            "_view_module": "@jupyter-widgets/base",
            "_view_module_version": "1.2.0",
            "_view_name": "LayoutView",
            "align_content": null,
            "align_items": null,
            "align_self": null,
            "border": null,
            "bottom": null,
            "display": null,
            "flex": null,
            "flex_flow": null,
            "grid_area": null,
            "grid_auto_columns": null,
            "grid_auto_flow": null,
            "grid_auto_rows": null,
            "grid_column": null,
            "grid_gap": null,
            "grid_row": null,
            "grid_template_areas": null,
            "grid_template_columns": null,
            "grid_template_rows": null,
            "height": null,
            "justify_content": null,
            "justify_items": null,
            "left": null,
            "margin": null,
            "max_height": null,
            "max_width": null,
            "min_height": null,
            "min_width": null,
            "object_fit": null,
            "object_position": null,
            "order": null,
            "overflow": null,
            "overflow_x": null,
            "overflow_y": null,
            "padding": null,
            "right": null,
            "top": null,
            "visibility": null,
            "width": null
          }
        },
        "ce12eb1c89564ffab955632294b95522": {
          "model_module": "@jupyter-widgets/controls",
          "model_name": "DescriptionStyleModel",
          "model_module_version": "1.5.0",
          "state": {
            "_model_module": "@jupyter-widgets/controls",
            "_model_module_version": "1.5.0",
            "_model_name": "DescriptionStyleModel",
            "_view_count": null,
            "_view_module": "@jupyter-widgets/base",
            "_view_module_version": "1.2.0",
            "_view_name": "StyleView",
            "description_width": ""
          }
        },
        "de25b85ac89d463c9e343d87737b1a79": {
          "model_module": "@jupyter-widgets/controls",
          "model_name": "HBoxModel",
          "model_module_version": "1.5.0",
          "state": {
            "_dom_classes": [],
            "_model_module": "@jupyter-widgets/controls",
            "_model_module_version": "1.5.0",
            "_model_name": "HBoxModel",
            "_view_count": null,
            "_view_module": "@jupyter-widgets/controls",
            "_view_module_version": "1.5.0",
            "_view_name": "HBoxView",
            "box_style": "",
            "children": [
              "IPY_MODEL_743214c026b049f0987f7f4e5b8e8be2",
              "IPY_MODEL_ca84e18b63e54f5e8562d2baeb962cb0",
              "IPY_MODEL_b1c3ed98461f4359be70bf91d7f51aa8"
            ],
            "layout": "IPY_MODEL_30b27d4294324b8bbc98bc75af349f10"
          }
        },
        "743214c026b049f0987f7f4e5b8e8be2": {
          "model_module": "@jupyter-widgets/controls",
          "model_name": "HTMLModel",
          "model_module_version": "1.5.0",
          "state": {
            "_dom_classes": [],
            "_model_module": "@jupyter-widgets/controls",
            "_model_module_version": "1.5.0",
            "_model_name": "HTMLModel",
            "_view_count": null,
            "_view_module": "@jupyter-widgets/controls",
            "_view_module_version": "1.5.0",
            "_view_name": "HTMLView",
            "description": "",
            "description_tooltip": null,
            "layout": "IPY_MODEL_cffa021425274aa9a474357b337a24fb",
            "placeholder": "​",
            "style": "IPY_MODEL_04456f56e3da4b01b3ac5ca2e58eeccb",
            "value": "Downloading builder script: 100%"
          }
        },
        "ca84e18b63e54f5e8562d2baeb962cb0": {
          "model_module": "@jupyter-widgets/controls",
          "model_name": "FloatProgressModel",
          "model_module_version": "1.5.0",
          "state": {
            "_dom_classes": [],
            "_model_module": "@jupyter-widgets/controls",
            "_model_module_version": "1.5.0",
            "_model_name": "FloatProgressModel",
            "_view_count": null,
            "_view_module": "@jupyter-widgets/controls",
            "_view_module_version": "1.5.0",
            "_view_name": "ProgressView",
            "bar_style": "success",
            "description": "",
            "description_tooltip": null,
            "layout": "IPY_MODEL_42dc3bd2d724490a8a939b409f698283",
            "max": 6771,
            "min": 0,
            "orientation": "horizontal",
            "style": "IPY_MODEL_357c397bc27b44858d6da9f1bc38d483",
            "value": 6771
          }
        },
        "b1c3ed98461f4359be70bf91d7f51aa8": {
          "model_module": "@jupyter-widgets/controls",
          "model_name": "HTMLModel",
          "model_module_version": "1.5.0",
          "state": {
            "_dom_classes": [],
            "_model_module": "@jupyter-widgets/controls",
            "_model_module_version": "1.5.0",
            "_model_name": "HTMLModel",
            "_view_count": null,
            "_view_module": "@jupyter-widgets/controls",
            "_view_module_version": "1.5.0",
            "_view_name": "HTMLView",
            "description": "",
            "description_tooltip": null,
            "layout": "IPY_MODEL_64d2184f87b941b783e99b42ee0fe21c",
            "placeholder": "​",
            "style": "IPY_MODEL_c86e8f6cb56b463081f2d2124f3be395",
            "value": " 6.77k/6.77k [00:00&lt;00:00, 231kB/s]"
          }
        },
        "30b27d4294324b8bbc98bc75af349f10": {
          "model_module": "@jupyter-widgets/base",
          "model_name": "LayoutModel",
          "model_module_version": "1.2.0",
          "state": {
            "_model_module": "@jupyter-widgets/base",
            "_model_module_version": "1.2.0",
            "_model_name": "LayoutModel",
            "_view_count": null,
            "_view_module": "@jupyter-widgets/base",
            "_view_module_version": "1.2.0",
            "_view_name": "LayoutView",
            "align_content": null,
            "align_items": null,
            "align_self": null,
            "border": null,
            "bottom": null,
            "display": null,
            "flex": null,
            "flex_flow": null,
            "grid_area": null,
            "grid_auto_columns": null,
            "grid_auto_flow": null,
            "grid_auto_rows": null,
            "grid_column": null,
            "grid_gap": null,
            "grid_row": null,
            "grid_template_areas": null,
            "grid_template_columns": null,
            "grid_template_rows": null,
            "height": null,
            "justify_content": null,
            "justify_items": null,
            "left": null,
            "margin": null,
            "max_height": null,
            "max_width": null,
            "min_height": null,
            "min_width": null,
            "object_fit": null,
            "object_position": null,
            "order": null,
            "overflow": null,
            "overflow_x": null,
            "overflow_y": null,
            "padding": null,
            "right": null,
            "top": null,
            "visibility": null,
            "width": null
          }
        },
        "cffa021425274aa9a474357b337a24fb": {
          "model_module": "@jupyter-widgets/base",
          "model_name": "LayoutModel",
          "model_module_version": "1.2.0",
          "state": {
            "_model_module": "@jupyter-widgets/base",
            "_model_module_version": "1.2.0",
            "_model_name": "LayoutModel",
            "_view_count": null,
            "_view_module": "@jupyter-widgets/base",
            "_view_module_version": "1.2.0",
            "_view_name": "LayoutView",
            "align_content": null,
            "align_items": null,
            "align_self": null,
            "border": null,
            "bottom": null,
            "display": null,
            "flex": null,
            "flex_flow": null,
            "grid_area": null,
            "grid_auto_columns": null,
            "grid_auto_flow": null,
            "grid_auto_rows": null,
            "grid_column": null,
            "grid_gap": null,
            "grid_row": null,
            "grid_template_areas": null,
            "grid_template_columns": null,
            "grid_template_rows": null,
            "height": null,
            "justify_content": null,
            "justify_items": null,
            "left": null,
            "margin": null,
            "max_height": null,
            "max_width": null,
            "min_height": null,
            "min_width": null,
            "object_fit": null,
            "object_position": null,
            "order": null,
            "overflow": null,
            "overflow_x": null,
            "overflow_y": null,
            "padding": null,
            "right": null,
            "top": null,
            "visibility": null,
            "width": null
          }
        },
        "04456f56e3da4b01b3ac5ca2e58eeccb": {
          "model_module": "@jupyter-widgets/controls",
          "model_name": "DescriptionStyleModel",
          "model_module_version": "1.5.0",
          "state": {
            "_model_module": "@jupyter-widgets/controls",
            "_model_module_version": "1.5.0",
            "_model_name": "DescriptionStyleModel",
            "_view_count": null,
            "_view_module": "@jupyter-widgets/base",
            "_view_module_version": "1.2.0",
            "_view_name": "StyleView",
            "description_width": ""
          }
        },
        "42dc3bd2d724490a8a939b409f698283": {
          "model_module": "@jupyter-widgets/base",
          "model_name": "LayoutModel",
          "model_module_version": "1.2.0",
          "state": {
            "_model_module": "@jupyter-widgets/base",
            "_model_module_version": "1.2.0",
            "_model_name": "LayoutModel",
            "_view_count": null,
            "_view_module": "@jupyter-widgets/base",
            "_view_module_version": "1.2.0",
            "_view_name": "LayoutView",
            "align_content": null,
            "align_items": null,
            "align_self": null,
            "border": null,
            "bottom": null,
            "display": null,
            "flex": null,
            "flex_flow": null,
            "grid_area": null,
            "grid_auto_columns": null,
            "grid_auto_flow": null,
            "grid_auto_rows": null,
            "grid_column": null,
            "grid_gap": null,
            "grid_row": null,
            "grid_template_areas": null,
            "grid_template_columns": null,
            "grid_template_rows": null,
            "height": null,
            "justify_content": null,
            "justify_items": null,
            "left": null,
            "margin": null,
            "max_height": null,
            "max_width": null,
            "min_height": null,
            "min_width": null,
            "object_fit": null,
            "object_position": null,
            "order": null,
            "overflow": null,
            "overflow_x": null,
            "overflow_y": null,
            "padding": null,
            "right": null,
            "top": null,
            "visibility": null,
            "width": null
          }
        },
        "357c397bc27b44858d6da9f1bc38d483": {
          "model_module": "@jupyter-widgets/controls",
          "model_name": "ProgressStyleModel",
          "model_module_version": "1.5.0",
          "state": {
            "_model_module": "@jupyter-widgets/controls",
            "_model_module_version": "1.5.0",
            "_model_name": "ProgressStyleModel",
            "_view_count": null,
            "_view_module": "@jupyter-widgets/base",
            "_view_module_version": "1.2.0",
            "_view_name": "StyleView",
            "bar_color": null,
            "description_width": ""
          }
        },
        "64d2184f87b941b783e99b42ee0fe21c": {
          "model_module": "@jupyter-widgets/base",
          "model_name": "LayoutModel",
          "model_module_version": "1.2.0",
          "state": {
            "_model_module": "@jupyter-widgets/base",
            "_model_module_version": "1.2.0",
            "_model_name": "LayoutModel",
            "_view_count": null,
            "_view_module": "@jupyter-widgets/base",
            "_view_module_version": "1.2.0",
            "_view_name": "LayoutView",
            "align_content": null,
            "align_items": null,
            "align_self": null,
            "border": null,
            "bottom": null,
            "display": null,
            "flex": null,
            "flex_flow": null,
            "grid_area": null,
            "grid_auto_columns": null,
            "grid_auto_flow": null,
            "grid_auto_rows": null,
            "grid_column": null,
            "grid_gap": null,
            "grid_row": null,
            "grid_template_areas": null,
            "grid_template_columns": null,
            "grid_template_rows": null,
            "height": null,
            "justify_content": null,
            "justify_items": null,
            "left": null,
            "margin": null,
            "max_height": null,
            "max_width": null,
            "min_height": null,
            "min_width": null,
            "object_fit": null,
            "object_position": null,
            "order": null,
            "overflow": null,
            "overflow_x": null,
            "overflow_y": null,
            "padding": null,
            "right": null,
            "top": null,
            "visibility": null,
            "width": null
          }
        },
        "c86e8f6cb56b463081f2d2124f3be395": {
          "model_module": "@jupyter-widgets/controls",
          "model_name": "DescriptionStyleModel",
          "model_module_version": "1.5.0",
          "state": {
            "_model_module": "@jupyter-widgets/controls",
            "_model_module_version": "1.5.0",
            "_model_name": "DescriptionStyleModel",
            "_view_count": null,
            "_view_module": "@jupyter-widgets/base",
            "_view_module_version": "1.2.0",
            "_view_name": "StyleView",
            "description_width": ""
          }
        }
      }
    }
  },
  "cells": [
    {
      "cell_type": "code",
      "source": [
        "!pip install transformers\n",
        "!pip install datasets\n",
        "!pip install evaluate"
      ],
      "metadata": {
        "id": "WJgdHqkbMmtd"
      },
      "execution_count": null,
      "outputs": []
    },
    {
      "cell_type": "markdown",
      "source": [
        "# Data"
      ],
      "metadata": {
        "id": "zFZgK36aX66s"
      }
    },
    {
      "cell_type": "markdown",
      "source": [
        "## Load"
      ],
      "metadata": {
        "id": "nIpEd6IyX9Mt"
      }
    },
    {
      "cell_type": "code",
      "source": [
        "import pandas as pd\n",
        "df = pd.read_json(\"/content/HS-Brexit_train.json\")"
      ],
      "metadata": {
        "id": "z5aIZa3G9rzY"
      },
      "execution_count": null,
      "outputs": []
    },
    {
      "cell_type": "code",
      "source": [
        "df = df.transpose()\n",
        "df = df.rename(columns={\"hard_label\": \"label\"})"
      ],
      "metadata": {
        "id": "tetb_3VM93wB"
      },
      "execution_count": null,
      "outputs": []
    },
    {
      "cell_type": "code",
      "source": [
        "df"
      ],
      "metadata": {
        "colab": {
          "base_uri": "https://localhost:8080/",
          "height": 659
        },
        "id": "023TQz0bLqVh",
        "outputId": "7c8727b4-dd49-4134-de66-545520c601f4"
      },
      "execution_count": null,
      "outputs": [
        {
          "output_type": "execute_result",
          "data": {
            "text/plain": [
              "                                                  text        annotation task  \\\n",
              "1    <user> <user> I'm so glad about #Brexit.. My a...  hate speech detection   \n",
              "2    RT <user>: There was more to #Brexit than immi...  hate speech detection   \n",
              "3    At the end of the day, the leave campaign won ...  hate speech detection   \n",
              "4    So the reducing migration thing wasn't quite w...  hate speech detection   \n",
              "5    A Brit Immigrant Asks Britain to Become India’...  hate speech detection   \n",
              "..                                                 ...                    ...   \n",
              "780  #Brexit has to happen there is no way you can ...  hate speech detection   \n",
              "781  A foreigner we've neither heard of nor voted f...  hate speech detection   \n",
              "782  The irony is we will probably now look to appo...  hate speech detection   \n",
              "783  Better watch out Merkel, the German people don...  hate speech detection   \n",
              "784  #Brexit is served.  In 2015, $66.4B of intl ca...  hate speech detection   \n",
              "\n",
              "    number of annotations  annotations                     annotators lang  \\\n",
              "1                       6  0,0,0,0,0,0  Ann1,Ann2,Ann3,Ann4,Ann5,Ann6   en   \n",
              "2                       6  0,0,0,0,0,0  Ann1,Ann2,Ann3,Ann4,Ann5,Ann6   en   \n",
              "3                       6  0,0,0,0,0,0  Ann1,Ann2,Ann3,Ann4,Ann5,Ann6   en   \n",
              "4                       6  0,0,0,0,0,0  Ann1,Ann2,Ann3,Ann4,Ann5,Ann6   en   \n",
              "5                       6  0,0,0,0,0,0  Ann1,Ann2,Ann3,Ann4,Ann5,Ann6   en   \n",
              "..                    ...          ...                            ...  ...   \n",
              "780                     6  0,0,0,0,0,0  Ann1,Ann2,Ann3,Ann4,Ann5,Ann6   en   \n",
              "781                     6  0,0,0,0,0,0  Ann1,Ann2,Ann3,Ann4,Ann5,Ann6   en   \n",
              "782                     6  0,0,0,0,0,0  Ann1,Ann2,Ann3,Ann4,Ann5,Ann6   en   \n",
              "783                     6  0,0,1,1,1,0  Ann1,Ann2,Ann3,Ann4,Ann5,Ann6   en   \n",
              "784                     6  0,0,0,0,0,0  Ann1,Ann2,Ann3,Ann4,Ann5,Ann6   en   \n",
              "\n",
              "    label            soft_label  split  \\\n",
              "1       0  {'0': 1.0, '1': 0.0}  train   \n",
              "2       0  {'0': 1.0, '1': 0.0}  train   \n",
              "3       0  {'0': 1.0, '1': 0.0}  train   \n",
              "4       0  {'0': 1.0, '1': 0.0}  train   \n",
              "5       0  {'0': 1.0, '1': 0.0}  train   \n",
              "..    ...                   ...    ...   \n",
              "780     0  {'0': 1.0, '1': 0.0}  train   \n",
              "781     0  {'0': 1.0, '1': 0.0}  train   \n",
              "782     0  {'0': 1.0, '1': 0.0}  train   \n",
              "783     0  {'0': 0.5, '1': 0.5}  train   \n",
              "784     0  {'0': 1.0, '1': 0.0}  train   \n",
              "\n",
              "                                            other_info  \n",
              "1    {'other annotations': {'aggressive language de...  \n",
              "2    {'other annotations': {'aggressive language de...  \n",
              "3    {'other annotations': {'aggressive language de...  \n",
              "4    {'other annotations': {'aggressive language de...  \n",
              "5    {'other annotations': {'aggressive language de...  \n",
              "..                                                 ...  \n",
              "780  {'other annotations': {'aggressive language de...  \n",
              "781  {'other annotations': {'aggressive language de...  \n",
              "782  {'other annotations': {'aggressive language de...  \n",
              "783  {'other annotations': {'aggressive language de...  \n",
              "784  {'other annotations': {'aggressive language de...  \n",
              "\n",
              "[784 rows x 10 columns]"
            ],
            "text/html": [
              "\n",
              "  <div id=\"df-b6d56bcd-9935-4c86-a551-063818b0d52f\">\n",
              "    <div class=\"colab-df-container\">\n",
              "      <div>\n",
              "<style scoped>\n",
              "    .dataframe tbody tr th:only-of-type {\n",
              "        vertical-align: middle;\n",
              "    }\n",
              "\n",
              "    .dataframe tbody tr th {\n",
              "        vertical-align: top;\n",
              "    }\n",
              "\n",
              "    .dataframe thead th {\n",
              "        text-align: right;\n",
              "    }\n",
              "</style>\n",
              "<table border=\"1\" class=\"dataframe\">\n",
              "  <thead>\n",
              "    <tr style=\"text-align: right;\">\n",
              "      <th></th>\n",
              "      <th>text</th>\n",
              "      <th>annotation task</th>\n",
              "      <th>number of annotations</th>\n",
              "      <th>annotations</th>\n",
              "      <th>annotators</th>\n",
              "      <th>lang</th>\n",
              "      <th>label</th>\n",
              "      <th>soft_label</th>\n",
              "      <th>split</th>\n",
              "      <th>other_info</th>\n",
              "    </tr>\n",
              "  </thead>\n",
              "  <tbody>\n",
              "    <tr>\n",
              "      <th>1</th>\n",
              "      <td>&lt;user&gt; &lt;user&gt; I'm so glad about #Brexit.. My a...</td>\n",
              "      <td>hate speech detection</td>\n",
              "      <td>6</td>\n",
              "      <td>0,0,0,0,0,0</td>\n",
              "      <td>Ann1,Ann2,Ann3,Ann4,Ann5,Ann6</td>\n",
              "      <td>en</td>\n",
              "      <td>0</td>\n",
              "      <td>{'0': 1.0, '1': 0.0}</td>\n",
              "      <td>train</td>\n",
              "      <td>{'other annotations': {'aggressive language de...</td>\n",
              "    </tr>\n",
              "    <tr>\n",
              "      <th>2</th>\n",
              "      <td>RT &lt;user&gt;: There was more to #Brexit than immi...</td>\n",
              "      <td>hate speech detection</td>\n",
              "      <td>6</td>\n",
              "      <td>0,0,0,0,0,0</td>\n",
              "      <td>Ann1,Ann2,Ann3,Ann4,Ann5,Ann6</td>\n",
              "      <td>en</td>\n",
              "      <td>0</td>\n",
              "      <td>{'0': 1.0, '1': 0.0}</td>\n",
              "      <td>train</td>\n",
              "      <td>{'other annotations': {'aggressive language de...</td>\n",
              "    </tr>\n",
              "    <tr>\n",
              "      <th>3</th>\n",
              "      <td>At the end of the day, the leave campaign won ...</td>\n",
              "      <td>hate speech detection</td>\n",
              "      <td>6</td>\n",
              "      <td>0,0,0,0,0,0</td>\n",
              "      <td>Ann1,Ann2,Ann3,Ann4,Ann5,Ann6</td>\n",
              "      <td>en</td>\n",
              "      <td>0</td>\n",
              "      <td>{'0': 1.0, '1': 0.0}</td>\n",
              "      <td>train</td>\n",
              "      <td>{'other annotations': {'aggressive language de...</td>\n",
              "    </tr>\n",
              "    <tr>\n",
              "      <th>4</th>\n",
              "      <td>So the reducing migration thing wasn't quite w...</td>\n",
              "      <td>hate speech detection</td>\n",
              "      <td>6</td>\n",
              "      <td>0,0,0,0,0,0</td>\n",
              "      <td>Ann1,Ann2,Ann3,Ann4,Ann5,Ann6</td>\n",
              "      <td>en</td>\n",
              "      <td>0</td>\n",
              "      <td>{'0': 1.0, '1': 0.0}</td>\n",
              "      <td>train</td>\n",
              "      <td>{'other annotations': {'aggressive language de...</td>\n",
              "    </tr>\n",
              "    <tr>\n",
              "      <th>5</th>\n",
              "      <td>A Brit Immigrant Asks Britain to Become India’...</td>\n",
              "      <td>hate speech detection</td>\n",
              "      <td>6</td>\n",
              "      <td>0,0,0,0,0,0</td>\n",
              "      <td>Ann1,Ann2,Ann3,Ann4,Ann5,Ann6</td>\n",
              "      <td>en</td>\n",
              "      <td>0</td>\n",
              "      <td>{'0': 1.0, '1': 0.0}</td>\n",
              "      <td>train</td>\n",
              "      <td>{'other annotations': {'aggressive language de...</td>\n",
              "    </tr>\n",
              "    <tr>\n",
              "      <th>...</th>\n",
              "      <td>...</td>\n",
              "      <td>...</td>\n",
              "      <td>...</td>\n",
              "      <td>...</td>\n",
              "      <td>...</td>\n",
              "      <td>...</td>\n",
              "      <td>...</td>\n",
              "      <td>...</td>\n",
              "      <td>...</td>\n",
              "      <td>...</td>\n",
              "    </tr>\n",
              "    <tr>\n",
              "      <th>780</th>\n",
              "      <td>#Brexit has to happen there is no way you can ...</td>\n",
              "      <td>hate speech detection</td>\n",
              "      <td>6</td>\n",
              "      <td>0,0,0,0,0,0</td>\n",
              "      <td>Ann1,Ann2,Ann3,Ann4,Ann5,Ann6</td>\n",
              "      <td>en</td>\n",
              "      <td>0</td>\n",
              "      <td>{'0': 1.0, '1': 0.0}</td>\n",
              "      <td>train</td>\n",
              "      <td>{'other annotations': {'aggressive language de...</td>\n",
              "    </tr>\n",
              "    <tr>\n",
              "      <th>781</th>\n",
              "      <td>A foreigner we've neither heard of nor voted f...</td>\n",
              "      <td>hate speech detection</td>\n",
              "      <td>6</td>\n",
              "      <td>0,0,0,0,0,0</td>\n",
              "      <td>Ann1,Ann2,Ann3,Ann4,Ann5,Ann6</td>\n",
              "      <td>en</td>\n",
              "      <td>0</td>\n",
              "      <td>{'0': 1.0, '1': 0.0}</td>\n",
              "      <td>train</td>\n",
              "      <td>{'other annotations': {'aggressive language de...</td>\n",
              "    </tr>\n",
              "    <tr>\n",
              "      <th>782</th>\n",
              "      <td>The irony is we will probably now look to appo...</td>\n",
              "      <td>hate speech detection</td>\n",
              "      <td>6</td>\n",
              "      <td>0,0,0,0,0,0</td>\n",
              "      <td>Ann1,Ann2,Ann3,Ann4,Ann5,Ann6</td>\n",
              "      <td>en</td>\n",
              "      <td>0</td>\n",
              "      <td>{'0': 1.0, '1': 0.0}</td>\n",
              "      <td>train</td>\n",
              "      <td>{'other annotations': {'aggressive language de...</td>\n",
              "    </tr>\n",
              "    <tr>\n",
              "      <th>783</th>\n",
              "      <td>Better watch out Merkel, the German people don...</td>\n",
              "      <td>hate speech detection</td>\n",
              "      <td>6</td>\n",
              "      <td>0,0,1,1,1,0</td>\n",
              "      <td>Ann1,Ann2,Ann3,Ann4,Ann5,Ann6</td>\n",
              "      <td>en</td>\n",
              "      <td>0</td>\n",
              "      <td>{'0': 0.5, '1': 0.5}</td>\n",
              "      <td>train</td>\n",
              "      <td>{'other annotations': {'aggressive language de...</td>\n",
              "    </tr>\n",
              "    <tr>\n",
              "      <th>784</th>\n",
              "      <td>#Brexit is served.  In 2015, $66.4B of intl ca...</td>\n",
              "      <td>hate speech detection</td>\n",
              "      <td>6</td>\n",
              "      <td>0,0,0,0,0,0</td>\n",
              "      <td>Ann1,Ann2,Ann3,Ann4,Ann5,Ann6</td>\n",
              "      <td>en</td>\n",
              "      <td>0</td>\n",
              "      <td>{'0': 1.0, '1': 0.0}</td>\n",
              "      <td>train</td>\n",
              "      <td>{'other annotations': {'aggressive language de...</td>\n",
              "    </tr>\n",
              "  </tbody>\n",
              "</table>\n",
              "<p>784 rows × 10 columns</p>\n",
              "</div>\n",
              "      <button class=\"colab-df-convert\" onclick=\"convertToInteractive('df-b6d56bcd-9935-4c86-a551-063818b0d52f')\"\n",
              "              title=\"Convert this dataframe to an interactive table.\"\n",
              "              style=\"display:none;\">\n",
              "        \n",
              "  <svg xmlns=\"http://www.w3.org/2000/svg\" height=\"24px\"viewBox=\"0 0 24 24\"\n",
              "       width=\"24px\">\n",
              "    <path d=\"M0 0h24v24H0V0z\" fill=\"none\"/>\n",
              "    <path d=\"M18.56 5.44l.94 2.06.94-2.06 2.06-.94-2.06-.94-.94-2.06-.94 2.06-2.06.94zm-11 1L8.5 8.5l.94-2.06 2.06-.94-2.06-.94L8.5 2.5l-.94 2.06-2.06.94zm10 10l.94 2.06.94-2.06 2.06-.94-2.06-.94-.94-2.06-.94 2.06-2.06.94z\"/><path d=\"M17.41 7.96l-1.37-1.37c-.4-.4-.92-.59-1.43-.59-.52 0-1.04.2-1.43.59L10.3 9.45l-7.72 7.72c-.78.78-.78 2.05 0 2.83L4 21.41c.39.39.9.59 1.41.59.51 0 1.02-.2 1.41-.59l7.78-7.78 2.81-2.81c.8-.78.8-2.07 0-2.86zM5.41 20L4 18.59l7.72-7.72 1.47 1.35L5.41 20z\"/>\n",
              "  </svg>\n",
              "      </button>\n",
              "      \n",
              "  <style>\n",
              "    .colab-df-container {\n",
              "      display:flex;\n",
              "      flex-wrap:wrap;\n",
              "      gap: 12px;\n",
              "    }\n",
              "\n",
              "    .colab-df-convert {\n",
              "      background-color: #E8F0FE;\n",
              "      border: none;\n",
              "      border-radius: 50%;\n",
              "      cursor: pointer;\n",
              "      display: none;\n",
              "      fill: #1967D2;\n",
              "      height: 32px;\n",
              "      padding: 0 0 0 0;\n",
              "      width: 32px;\n",
              "    }\n",
              "\n",
              "    .colab-df-convert:hover {\n",
              "      background-color: #E2EBFA;\n",
              "      box-shadow: 0px 1px 2px rgba(60, 64, 67, 0.3), 0px 1px 3px 1px rgba(60, 64, 67, 0.15);\n",
              "      fill: #174EA6;\n",
              "    }\n",
              "\n",
              "    [theme=dark] .colab-df-convert {\n",
              "      background-color: #3B4455;\n",
              "      fill: #D2E3FC;\n",
              "    }\n",
              "\n",
              "    [theme=dark] .colab-df-convert:hover {\n",
              "      background-color: #434B5C;\n",
              "      box-shadow: 0px 1px 3px 1px rgba(0, 0, 0, 0.15);\n",
              "      filter: drop-shadow(0px 1px 2px rgba(0, 0, 0, 0.3));\n",
              "      fill: #FFFFFF;\n",
              "    }\n",
              "  </style>\n",
              "\n",
              "      <script>\n",
              "        const buttonEl =\n",
              "          document.querySelector('#df-b6d56bcd-9935-4c86-a551-063818b0d52f button.colab-df-convert');\n",
              "        buttonEl.style.display =\n",
              "          google.colab.kernel.accessAllowed ? 'block' : 'none';\n",
              "\n",
              "        async function convertToInteractive(key) {\n",
              "          const element = document.querySelector('#df-b6d56bcd-9935-4c86-a551-063818b0d52f');\n",
              "          const dataTable =\n",
              "            await google.colab.kernel.invokeFunction('convertToInteractive',\n",
              "                                                     [key], {});\n",
              "          if (!dataTable) return;\n",
              "\n",
              "          const docLinkHtml = 'Like what you see? Visit the ' +\n",
              "            '<a target=\"_blank\" href=https://colab.research.google.com/notebooks/data_table.ipynb>data table notebook</a>'\n",
              "            + ' to learn more about interactive tables.';\n",
              "          element.innerHTML = '';\n",
              "          dataTable['output_type'] = 'display_data';\n",
              "          await google.colab.output.renderOutput(dataTable, element);\n",
              "          const docLink = document.createElement('div');\n",
              "          docLink.innerHTML = docLinkHtml;\n",
              "          element.appendChild(docLink);\n",
              "        }\n",
              "      </script>\n",
              "    </div>\n",
              "  </div>\n",
              "  "
            ]
          },
          "metadata": {},
          "execution_count": 24
        }
      ]
    },
    {
      "cell_type": "markdown",
      "source": [
        "## Preprocess"
      ],
      "metadata": {
        "id": "w_5cYOmAYF7o"
      }
    },
    {
      "cell_type": "code",
      "source": [
        "from datasets import Dataset\n",
        "dataset = Dataset.from_pandas(df[[\"text\",\"label\"]])# can be done directly from json as well"
      ],
      "metadata": {
        "id": "GZl4AHGxMjLO"
      },
      "execution_count": null,
      "outputs": []
    },
    {
      "cell_type": "code",
      "source": [
        "from transformers import AutoTokenizer\n",
        "tokenizer = AutoTokenizer.from_pretrained(\"roberta-base\")"
      ],
      "metadata": {
        "id": "G0ma3DU2PSPE"
      },
      "execution_count": null,
      "outputs": []
    },
    {
      "cell_type": "code",
      "source": [
        "def tokenize_function(examples):\n",
        "    examples[\"label\"] = int(examples[\"label\"])#dataset stores label as string lol\n",
        "    return tokenizer(examples[\"text\"], padding=\"max_length\", truncation=True)\n",
        "\n",
        "tokenized_datasets = dataset.map(tokenize_function, batched=False)"
      ],
      "metadata": {
        "colab": {
          "base_uri": "https://localhost:8080/",
          "height": 49,
          "referenced_widgets": [
            "c24136810f9f4b168910a0f66e843ae1",
            "fc61a3df3a00442e8507f6bb3574670f",
            "bef44e02c1874ec1b7e37a5ff52dd71d",
            "b2be3a98d54d4ae6b5243e4be4bd4616",
            "97ced680289a429db1ea71960634186f",
            "c138a996a6f544b7a388f4c791377e98",
            "f61a82c24a884d2bbb507670765a44f4",
            "82fc586217cd4cfe98a4427bf234edb0",
            "11b08e32e94e4a45a3e90853da09ef62",
            "26be4dc3be0c4266be7b355632329d30",
            "ce12eb1c89564ffab955632294b95522"
          ]
        },
        "id": "DJqsfdtNLq2D",
        "outputId": "dab46820-47cc-4735-d1e4-9c14e1de06be"
      },
      "execution_count": null,
      "outputs": [
        {
          "output_type": "display_data",
          "data": {
            "text/plain": [
              "  0%|          | 0/784 [00:00<?, ?ex/s]"
            ],
            "application/vnd.jupyter.widget-view+json": {
              "version_major": 2,
              "version_minor": 0,
              "model_id": "c24136810f9f4b168910a0f66e843ae1"
            }
          },
          "metadata": {}
        }
      ]
    },
    {
      "cell_type": "code",
      "source": [
        "tokenized_datasets = tokenized_datasets.train_test_split(test_size=0.1)"
      ],
      "metadata": {
        "id": "ZPjRe_u3XqCP"
      },
      "execution_count": null,
      "outputs": []
    },
    {
      "cell_type": "markdown",
      "source": [
        "# Model and evaluation"
      ],
      "metadata": {
        "id": "Sc9XVK6DYQkZ"
      }
    },
    {
      "cell_type": "code",
      "source": [
        "from transformers import AutoModelForSequenceClassification\n",
        "\n",
        "model = AutoModelForSequenceClassification.from_pretrained(\"roberta-base\", num_labels=2)"
      ],
      "metadata": {
        "colab": {
          "base_uri": "https://localhost:8080/"
        },
        "id": "L2UUoS3qNgRr",
        "outputId": "414d547c-32e8-4168-ed80-ff6915cba0a2"
      },
      "execution_count": null,
      "outputs": [
        {
          "output_type": "stream",
          "name": "stderr",
          "text": [
            "loading configuration file config.json from cache at /root/.cache/huggingface/hub/models--roberta-base/snapshots/ff46155979338ff8063cdad90908b498ab91b181/config.json\n",
            "Model config RobertaConfig {\n",
            "  \"_name_or_path\": \"roberta-base\",\n",
            "  \"architectures\": [\n",
            "    \"RobertaForMaskedLM\"\n",
            "  ],\n",
            "  \"attention_probs_dropout_prob\": 0.1,\n",
            "  \"bos_token_id\": 0,\n",
            "  \"classifier_dropout\": null,\n",
            "  \"eos_token_id\": 2,\n",
            "  \"hidden_act\": \"gelu\",\n",
            "  \"hidden_dropout_prob\": 0.1,\n",
            "  \"hidden_size\": 768,\n",
            "  \"initializer_range\": 0.02,\n",
            "  \"intermediate_size\": 3072,\n",
            "  \"layer_norm_eps\": 1e-05,\n",
            "  \"max_position_embeddings\": 514,\n",
            "  \"model_type\": \"roberta\",\n",
            "  \"num_attention_heads\": 12,\n",
            "  \"num_hidden_layers\": 12,\n",
            "  \"pad_token_id\": 1,\n",
            "  \"position_embedding_type\": \"absolute\",\n",
            "  \"transformers_version\": \"4.24.0\",\n",
            "  \"type_vocab_size\": 1,\n",
            "  \"use_cache\": true,\n",
            "  \"vocab_size\": 50265\n",
            "}\n",
            "\n",
            "loading weights file pytorch_model.bin from cache at /root/.cache/huggingface/hub/models--roberta-base/snapshots/ff46155979338ff8063cdad90908b498ab91b181/pytorch_model.bin\n",
            "Some weights of the model checkpoint at roberta-base were not used when initializing RobertaForSequenceClassification: ['lm_head.layer_norm.weight', 'roberta.pooler.dense.weight', 'lm_head.dense.bias', 'lm_head.dense.weight', 'lm_head.decoder.weight', 'roberta.pooler.dense.bias', 'lm_head.layer_norm.bias', 'lm_head.bias']\n",
            "- This IS expected if you are initializing RobertaForSequenceClassification from the checkpoint of a model trained on another task or with another architecture (e.g. initializing a BertForSequenceClassification model from a BertForPreTraining model).\n",
            "- This IS NOT expected if you are initializing RobertaForSequenceClassification from the checkpoint of a model that you expect to be exactly identical (initializing a BertForSequenceClassification model from a BertForSequenceClassification model).\n",
            "Some weights of RobertaForSequenceClassification were not initialized from the model checkpoint at roberta-base and are newly initialized: ['classifier.out_proj.weight', 'classifier.dense.weight', 'classifier.dense.bias', 'classifier.out_proj.bias']\n",
            "You should probably TRAIN this model on a down-stream task to be able to use it for predictions and inference.\n"
          ]
        }
      ]
    },
    {
      "cell_type": "code",
      "source": [
        "import numpy as np\n",
        "import evaluate\n",
        "metric = evaluate.load(\"f1\")"
      ],
      "metadata": {
        "colab": {
          "base_uri": "https://localhost:8080/",
          "height": 49,
          "referenced_widgets": [
            "de25b85ac89d463c9e343d87737b1a79",
            "743214c026b049f0987f7f4e5b8e8be2",
            "ca84e18b63e54f5e8562d2baeb962cb0",
            "b1c3ed98461f4359be70bf91d7f51aa8",
            "30b27d4294324b8bbc98bc75af349f10",
            "cffa021425274aa9a474357b337a24fb",
            "04456f56e3da4b01b3ac5ca2e58eeccb",
            "42dc3bd2d724490a8a939b409f698283",
            "357c397bc27b44858d6da9f1bc38d483",
            "64d2184f87b941b783e99b42ee0fe21c",
            "c86e8f6cb56b463081f2d2124f3be395"
          ]
        },
        "id": "oWAP2EpMN6Sj",
        "outputId": "d04eb66a-ac5f-4fbd-b620-3a71decf28b4"
      },
      "execution_count": null,
      "outputs": [
        {
          "output_type": "display_data",
          "data": {
            "text/plain": [
              "Downloading builder script:   0%|          | 0.00/6.77k [00:00<?, ?B/s]"
            ],
            "application/vnd.jupyter.widget-view+json": {
              "version_major": 2,
              "version_minor": 0,
              "model_id": "de25b85ac89d463c9e343d87737b1a79"
            }
          },
          "metadata": {}
        }
      ]
    },
    {
      "cell_type": "code",
      "source": [
        "from sklearn.metrics import f1_score\n",
        "\n",
        "def compute_metrics(eval_pred):\n",
        "    logits, labels = eval_pred\n",
        "    predictions = np.argmax(logits, axis=-1)\n",
        "    f1_huggingface = metric.compute(predictions=predictions, references=labels)\n",
        "    f1_sklearn = f1_score(labels, predictions, average = 'micro')  \n",
        "    \n",
        "    return {\"f1_huggingface\" : f1_huggingface, \"f1_sklearn\" : f1_sklearn}\n",
        "#TODO do soft eval here"
      ],
      "metadata": {
        "id": "PgGnjVx9N_ve"
      },
      "execution_count": null,
      "outputs": []
    },
    {
      "cell_type": "markdown",
      "source": [
        "# Train"
      ],
      "metadata": {
        "id": "QY-p45h6YWWI"
      }
    },
    {
      "cell_type": "code",
      "source": [
        "from transformers import TrainingArguments, Trainer\n",
        "training_args = TrainingArguments(output_dir=\"test_trainer\", evaluation_strategy=\"epoch\")"
      ],
      "metadata": {
        "colab": {
          "base_uri": "https://localhost:8080/"
        },
        "id": "1ENIXmX7OOzQ",
        "outputId": "efa73a91-1633-4a8f-a33d-9a9a2cc1093a"
      },
      "execution_count": null,
      "outputs": [
        {
          "output_type": "stream",
          "name": "stderr",
          "text": [
            "PyTorch: setting up devices\n",
            "The default value for the training argument `--report_to` will change in v5 (from all installed integrations to none). In v5, you will need to use `--report_to all` to get the same behavior as now. You should start updating your code and make this info disappear :-).\n"
          ]
        }
      ]
    },
    {
      "cell_type": "code",
      "source": [
        "trainer = Trainer(\n",
        "    model=model,\n",
        "    args=training_args,\n",
        "    train_dataset=tokenized_datasets[\"train\"],\n",
        "    eval_dataset=tokenized_datasets[\"test\"],\n",
        "    compute_metrics=compute_metrics,\n",
        ")"
      ],
      "metadata": {
        "id": "Rnel-MGMOXWh"
      },
      "execution_count": null,
      "outputs": []
    },
    {
      "cell_type": "code",
      "source": [
        "trainer.train()"
      ],
      "metadata": {
        "colab": {
          "base_uri": "https://localhost:8080/",
          "height": 762
        },
        "id": "tvL8tUTSOyuY",
        "outputId": "dd0b316c-0969-4004-dd16-6763938fb657"
      },
      "execution_count": null,
      "outputs": [
        {
          "output_type": "stream",
          "name": "stderr",
          "text": [
            "The following columns in the training set don't have a corresponding argument in `RobertaForSequenceClassification.forward` and have been ignored: __index_level_0__, text. If __index_level_0__, text are not expected by `RobertaForSequenceClassification.forward`,  you can safely ignore this message.\n",
            "/usr/local/lib/python3.7/dist-packages/transformers/optimization.py:310: FutureWarning: This implementation of AdamW is deprecated and will be removed in a future version. Use the PyTorch implementation torch.optim.AdamW instead, or set `no_deprecation_warning=True` to disable this warning\n",
            "  FutureWarning,\n",
            "***** Running training *****\n",
            "  Num examples = 705\n",
            "  Num Epochs = 3\n",
            "  Instantaneous batch size per device = 8\n",
            "  Total train batch size (w. parallel, distributed & accumulation) = 8\n",
            "  Gradient Accumulation steps = 1\n",
            "  Total optimization steps = 267\n",
            "  Number of trainable parameters = 124647170\n"
          ]
        },
        {
          "output_type": "display_data",
          "data": {
            "text/plain": [
              "<IPython.core.display.HTML object>"
            ],
            "text/html": [
              "\n",
              "    <div>\n",
              "      \n",
              "      <progress value='267' max='267' style='width:300px; height:20px; vertical-align: middle;'></progress>\n",
              "      [267/267 03:28, Epoch 3/3]\n",
              "    </div>\n",
              "    <table border=\"1\" class=\"dataframe\">\n",
              "  <thead>\n",
              " <tr style=\"text-align: left;\">\n",
              "      <th>Epoch</th>\n",
              "      <th>Training Loss</th>\n",
              "      <th>Validation Loss</th>\n",
              "      <th>F1 Huggingface</th>\n",
              "      <th>F1 Sklearn</th>\n",
              "    </tr>\n",
              "  </thead>\n",
              "  <tbody>\n",
              "    <tr>\n",
              "      <td>1</td>\n",
              "      <td>No log</td>\n",
              "      <td>0.354564</td>\n",
              "      <td>{'f1': 0.0}</td>\n",
              "      <td>0.886076</td>\n",
              "    </tr>\n",
              "    <tr>\n",
              "      <td>2</td>\n",
              "      <td>No log</td>\n",
              "      <td>0.379478</td>\n",
              "      <td>{'f1': 0.0}</td>\n",
              "      <td>0.886076</td>\n",
              "    </tr>\n",
              "    <tr>\n",
              "      <td>3</td>\n",
              "      <td>No log</td>\n",
              "      <td>0.409790</td>\n",
              "      <td>{'f1': 0.0}</td>\n",
              "      <td>0.886076</td>\n",
              "    </tr>\n",
              "  </tbody>\n",
              "</table><p>"
            ]
          },
          "metadata": {}
        },
        {
          "output_type": "stream",
          "name": "stderr",
          "text": [
            "The following columns in the evaluation set don't have a corresponding argument in `RobertaForSequenceClassification.forward` and have been ignored: __index_level_0__, text. If __index_level_0__, text are not expected by `RobertaForSequenceClassification.forward`,  you can safely ignore this message.\n",
            "***** Running Evaluation *****\n",
            "  Num examples = 79\n",
            "  Batch size = 8\n",
            "Trainer is attempting to log a value of \"{'f1': 0.0}\" of type <class 'dict'> for key \"eval/f1_huggingface\" as a scalar. This invocation of Tensorboard's writer.add_scalar() is incorrect so we dropped this attribute.\n",
            "The following columns in the evaluation set don't have a corresponding argument in `RobertaForSequenceClassification.forward` and have been ignored: __index_level_0__, text. If __index_level_0__, text are not expected by `RobertaForSequenceClassification.forward`,  you can safely ignore this message.\n",
            "***** Running Evaluation *****\n",
            "  Num examples = 79\n",
            "  Batch size = 8\n",
            "Trainer is attempting to log a value of \"{'f1': 0.0}\" of type <class 'dict'> for key \"eval/f1_huggingface\" as a scalar. This invocation of Tensorboard's writer.add_scalar() is incorrect so we dropped this attribute.\n",
            "The following columns in the evaluation set don't have a corresponding argument in `RobertaForSequenceClassification.forward` and have been ignored: __index_level_0__, text. If __index_level_0__, text are not expected by `RobertaForSequenceClassification.forward`,  you can safely ignore this message.\n",
            "***** Running Evaluation *****\n",
            "  Num examples = 79\n",
            "  Batch size = 8\n",
            "Trainer is attempting to log a value of \"{'f1': 0.0}\" of type <class 'dict'> for key \"eval/f1_huggingface\" as a scalar. This invocation of Tensorboard's writer.add_scalar() is incorrect so we dropped this attribute.\n",
            "\n",
            "\n",
            "Training completed. Do not forget to share your model on huggingface.co/models =)\n",
            "\n",
            "\n"
          ]
        },
        {
          "output_type": "execute_result",
          "data": {
            "text/plain": [
              "TrainOutput(global_step=267, training_loss=0.3229807878701428, metrics={'train_runtime': 209.5722, 'train_samples_per_second': 10.092, 'train_steps_per_second': 1.274, 'total_flos': 556479882086400.0, 'train_loss': 0.3229807878701428, 'epoch': 3.0})"
            ]
          },
          "metadata": {},
          "execution_count": 56
        }
      ]
    },
    {
      "cell_type": "markdown",
      "source": [
        "# Evaluation"
      ],
      "metadata": {
        "id": "2DhC9U0aYw7C"
      }
    },
    {
      "cell_type": "markdown",
      "source": [
        "not yet working"
      ],
      "metadata": {
        "id": "Sern2Cr6mNAQ"
      }
    },
    {
      "cell_type": "code",
      "source": [
        "def tokenize_function_eval(examples):\n",
        "    examples[\"soft_label\"] = int(examples[\"soft_label\"])#dataset stores label as string lol\n",
        "    return tokenizer(examples[\"text\"], padding=\"max_length\", truncation=True)"
      ],
      "metadata": {
        "id": "xJmnecLIljIi"
      },
      "execution_count": null,
      "outputs": []
    },
    {
      "cell_type": "code",
      "source": [
        "import evaluate\n",
        "import torch\n",
        "\n",
        "dataset_eval = Dataset.from_pandas(df[[\"text\",\"soft_label\"]])\n",
        "tokenized_datasets_eval = dataset_eval.map(tokenize_function_eval, batched=False)\n",
        "dataloader_eval = torch.utils.data.DataLoader(dataset_eval, batch_size=32)\n",
        "model.eval()\n",
        "for batch in dataloader_eval:\n",
        "    batch = {k: v.to(\"cuda\") for k, v in batch.items()}\n",
        "    with torch.no_grad():\n",
        "        outputs = model(**batch)\n",
        "\n",
        "    logits = outputs.logits\n",
        "    predictions = torch.clip(predictions, 0.01, 1 - 0.01)\n",
        "    ce = -torch.sum(targets*torch.log(predictions+1e-9))/N\n",
        "\n",
        "metric.compute()"
      ],
      "metadata": {
        "id": "c7L0yJfXjssX"
      },
      "execution_count": null,
      "outputs": []
    },
    {
      "cell_type": "code",
      "source": [
        "test"
      ],
      "metadata": {
        "id": "Pasq_7If0071"
      },
      "execution_count": null,
      "outputs": []
    }
  ]
}